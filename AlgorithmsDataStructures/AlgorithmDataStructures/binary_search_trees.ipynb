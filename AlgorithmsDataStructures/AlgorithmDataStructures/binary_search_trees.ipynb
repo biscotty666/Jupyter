{
 "cells": [
  {
   "cell_type": "markdown",
   "id": "adb0db02-820a-40ab-bf7b-7bbb7a446f77",
   "metadata": {},
   "source": [
    "# Binary Search Trees\n",
    "\n",
    "| [Chapter](https://jovian.ai/aakashns/python-binary-search-trees) |\n",
    "[Website](https://jovian.ai/learn/data-structures-and-algorithms-in-python/lesson/lesson-2-binary-search-trees-traversals-and-balancing) |\n",
    "[Video](https://www.youtube.com/watch?v=pkYVOmU3MgA) |"
   ]
  },
  {
   "cell_type": "markdown",
   "id": "c3264c6a-6d99-4cb0-88a6-a287d7755943",
   "metadata": {},
   "source": [
    "## Problem \n",
    "\n",
    "\n",
    "In this notebook, we'll focus on solving the following problem:\n",
    "\n",
    "> **QUESTION 1**: As a senior backend engineer at Jovian, you are tasked with developing a fast in-memory data structure to manage profile information (username, name and email) for 100 million users. It should allow the following operations to be performed efficiently:\n",
    "> \n",
    "> 1. **Insert** the profile information for a new user.\n",
    "> 2. **Find** the profile information of a user, given their username\n",
    "> 3. **Update** the profile information of a user, given their usrname\n",
    "> 5. **List** all the users of the platform, sorted by username\n",
    ">\n",
    "> You can assume that usernames are unique. \n",
    "\n",
    "Along the way, we will also solve several other questions related to binary trees and binary search trees that are often asked in coding interviews and assessments. "
   ]
  },
  {
   "cell_type": "markdown",
   "id": "89dd8661-fcdc-44c3-bde6-6ba6e2c2b564",
   "metadata": {},
   "source": [
    "## 1. State the problem clearly. Identify the input & output formats.\n",
    "\n",
    "#### Problem\n",
    "\n",
    "> We need to create a data structure which can store 100 million records and perform insertion, search, update and list operations efficiently.\n",
    "\n",
    "#### Input\n",
    "\n",
    "The key inputs to our data structure are user profiles, which contain the username, name and email of a user. \n",
    "\n",
    "A Python _class_ would be a great way to represent the information for a user. A class is a blueprint for creating _objects_. Everything in Python is an _object_ belonging to some _class_. Here's the simples possible class in Python, with nothing in it:"
   ]
  },
  {
   "cell_type": "code",
   "execution_count": 62,
   "id": "a6d66efc-9e1b-4447-9b7c-8526457184ae",
   "metadata": {},
   "outputs": [],
   "source": [
    "from dataclasses import dataclass\n",
    "\n",
    "@dataclass\n",
    "class User:\n",
    "  name: str\n",
    "  username: str\n",
    "  email: str\n",
    "\n",
    "  def introduce_yourself(self, guestname):\n",
    "    print(f\"Hi {guestname}, I'm {name}\")"
   ]
  },
  {
   "cell_type": "code",
   "execution_count": 63,
   "id": "14eb6cba-70f2-4472-bbd1-438a74530a9f",
   "metadata": {},
   "outputs": [],
   "source": [
    "user1 = User('Bob', 'bob', 'bob@bob.bob')"
   ]
  },
  {
   "cell_type": "code",
   "execution_count": 64,
   "id": "fe9b5e2f-e525-4798-bd68-d7dfa0c42cb8",
   "metadata": {},
   "outputs": [
    {
     "name": "stdout",
     "output_type": "stream",
     "text": [
      "User(): User(name='Bob', username='bob', email='bob@bob.bob')\n",
      "User.name: Bob\n"
     ]
    }
   ],
   "source": [
    "print(f\"User(): {user1}\")\n",
    "print(f\"User.name: {user1.name}\")"
   ]
  },
  {
   "cell_type": "code",
   "execution_count": 56,
   "id": "6a2dd13b-a89d-4350-b79a-137397c9ad18",
   "metadata": {},
   "outputs": [],
   "source": [
    "user1"
   ]
  },
  {
   "cell_type": "code",
   "execution_count": 57,
   "id": "34470454-0ba5-43aa-b77c-f556c0fb663a",
   "metadata": {},
   "outputs": [
    {
     "name": "stdout",
     "output_type": "stream",
     "text": [
      "User(): User(name='John', username='bob')\n",
      "User.name: John\n"
     ]
    }
   ],
   "source": [
    "print(f\"User(): {user1}\")\n",
    "print(f\"User.name: {user1.name}\")"
   ]
  },
  {
   "cell_type": "code",
   "execution_count": 46,
   "id": "887e842f-ae84-44d2-9c63-2afba1d76fde",
   "metadata": {},
   "outputs": [
    {
     "data": {
      "text/plain": [
       "'John'"
      ]
     },
     "execution_count": 46,
     "metadata": {},
     "output_type": "execute_result"
    }
   ],
   "source": [
    "user1.name"
   ]
  },
  {
   "cell_type": "code",
   "execution_count": 34,
   "id": "8a9d28a4-028c-4e3d-97bf-ea3885f00801",
   "metadata": {},
   "outputs": [
    {
     "data": {
      "text/plain": [
       "'bob'"
      ]
     },
     "execution_count": 34,
     "metadata": {},
     "output_type": "execute_result"
    }
   ],
   "source": [
    "user1.username"
   ]
  },
  {
   "cell_type": "code",
   "execution_count": null,
   "id": "c09e4cff-abfb-4e7a-bbb8-a070afd3b0ee",
   "metadata": {},
   "outputs": [],
   "source": []
  }
 ],
 "metadata": {
  "kernelspec": {
   "display_name": "Python 3 (ipykernel)",
   "language": "python",
   "name": "python3"
  },
  "language_info": {
   "codemirror_mode": {
    "name": "ipython",
    "version": 3
   },
   "file_extension": ".py",
   "mimetype": "text/x-python",
   "name": "python",
   "nbconvert_exporter": "python",
   "pygments_lexer": "ipython3",
   "version": "3.9.13"
  }
 },
 "nbformat": 4,
 "nbformat_minor": 5
}
