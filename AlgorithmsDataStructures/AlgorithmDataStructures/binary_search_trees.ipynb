{
 "cells": [
  {
   "cell_type": "markdown",
   "id": "adb0db02-820a-40ab-bf7b-7bbb7a446f77",
   "metadata": {},
   "source": [
    "# Binary Search Trees\n",
    "\n",
    "| [Chapter](https://jovian.ai/aakashns/python-binary-search-trees) |\n",
    "[Website](https://jovian.ai/learn/data-structures-and-algorithms-in-python/lesson/lesson-2-binary-search-trees-traversals-and-balancing) |\n",
    "[Video](https://www.youtube.com/watch?v=pkYVOmU3MgA) |"
   ]
  },
  {
   "cell_type": "markdown",
   "id": "c3264c6a-6d99-4cb0-88a6-a287d7755943",
   "metadata": {},
   "source": [
    "## Problem \n",
    "\n",
    "\n",
    "In this notebook, we'll focus on solving the following problem:\n",
    "\n",
    "> **QUESTION 1**: As a senior backend engineer at Jovian, you are tasked with developing a fast in-memory data structure to manage profile information (username, name and email) for 100 million users. It should allow the following operations to be performed efficiently:\n",
    "> \n",
    "> 1. **Insert** the profile information for a new user.\n",
    "> 2. **Find** the profile information of a user, given their username\n",
    "> 3. **Update** the profile information of a user, given their usrname\n",
    "> 5. **List** all the users of the platform, sorted by username\n",
    ">\n",
    "> You can assume that usernames are unique. \n",
    "\n",
    "Along the way, we will also solve several other questions related to binary trees and binary search trees that are often asked in coding interviews and assessments. "
   ]
  },
  {
   "cell_type": "markdown",
   "id": "89dd8661-fcdc-44c3-bde6-6ba6e2c2b564",
   "metadata": {},
   "source": [
    "## 1. State the problem clearly. Identify the input & output formats.\n",
    "\n",
    "#### Problem\n",
    "\n",
    "> We need to create a data structure which can store 100 million records and perform insertion, search, update and list operations efficiently.\n",
    "\n",
    "#### Input\n",
    "\n",
    "The key inputs to our data structure are user profiles, which contain the username, name and email of a user. \n",
    "\n",
    "A Python _class_ would be a great way to represent the information for a user. A class is a blueprint for creating _objects_. Everything in Python is an _object_ belonging to some _class_. Here's the simples possible class in Python, with nothing in it:"
   ]
  },
  {
   "cell_type": "code",
   "execution_count": 95,
   "id": "a6d66efc-9e1b-4447-9b7c-8526457184ae",
   "metadata": {},
   "outputs": [],
   "source": [
    "from dataclasses import dataclass\n",
    "\n",
    "@dataclass\n",
    "class User:\n",
    "  username: str\n",
    "  name: str\n",
    "  email: str\n",
    "\n",
    "  def introduce_yourself(self, guestname):\n",
    "    print(f\"Hi {guestname}, I'm {self.name}\")"
   ]
  },
  {
   "cell_type": "code",
   "execution_count": 96,
   "id": "14eb6cba-70f2-4472-bbd1-438a74530a9f",
   "metadata": {},
   "outputs": [],
   "source": [
    "user1 = User('Bob', 'bob', 'bob@bob.bob')"
   ]
  },
  {
   "cell_type": "code",
   "execution_count": 97,
   "id": "fe9b5e2f-e525-4798-bd68-d7dfa0c42cb8",
   "metadata": {},
   "outputs": [
    {
     "name": "stdout",
     "output_type": "stream",
     "text": [
      "User(): User(username='Bob', name='bob', email='bob@bob.bob')\n",
      "User.name: bob\n"
     ]
    }
   ],
   "source": [
    "print(f\"User(): {user1}\")\n",
    "print(f\"User.name: {user1.name}\")"
   ]
  },
  {
   "cell_type": "code",
   "execution_count": 98,
   "id": "6a2dd13b-a89d-4350-b79a-137397c9ad18",
   "metadata": {},
   "outputs": [
    {
     "name": "stdout",
     "output_type": "stream",
     "text": [
      "Hi Brian, I'm bob\n"
     ]
    }
   ],
   "source": [
    "user1.introduce_yourself('Brian')"
   ]
  },
  {
   "cell_type": "code",
   "execution_count": 99,
   "id": "34470454-0ba5-43aa-b77c-f556c0fb663a",
   "metadata": {},
   "outputs": [
    {
     "name": "stdout",
     "output_type": "stream",
     "text": [
      "User(): User(username='Bob', name='bob', email='bob@bob.bob')\n",
      "User.name: bob\n"
     ]
    }
   ],
   "source": [
    "print(f\"User(): {user1}\")\n",
    "print(f\"User.name: {user1.name}\")"
   ]
  },
  {
   "cell_type": "code",
   "execution_count": 100,
   "id": "887e842f-ae84-44d2-9c63-2afba1d76fde",
   "metadata": {},
   "outputs": [
    {
     "data": {
      "text/plain": [
       "'bob'"
      ]
     },
     "execution_count": 100,
     "metadata": {},
     "output_type": "execute_result"
    }
   ],
   "source": [
    "user1.name"
   ]
  },
  {
   "cell_type": "code",
   "execution_count": 101,
   "id": "8a9d28a4-028c-4e3d-97bf-ea3885f00801",
   "metadata": {},
   "outputs": [
    {
     "data": {
      "text/plain": [
       "'Bob'"
      ]
     },
     "execution_count": 101,
     "metadata": {},
     "output_type": "execute_result"
    }
   ],
   "source": [
    "user1.username"
   ]
  },
  {
   "cell_type": "code",
   "execution_count": 102,
   "id": "c09e4cff-abfb-4e7a-bbb8-a070afd3b0ee",
   "metadata": {},
   "outputs": [
    {
     "data": {
      "text/plain": [
       "User(username='Bob', name='bob', email='bob@bob.bob')"
      ]
     },
     "execution_count": 102,
     "metadata": {},
     "output_type": "execute_result"
    }
   ],
   "source": [
    "user1"
   ]
  },
  {
   "cell_type": "code",
   "execution_count": 103,
   "id": "060289e4-22f8-489d-a047-240212421479",
   "metadata": {},
   "outputs": [],
   "source": [
    "class UserDatabase:\n",
    "  def insert(self, user):\n",
    "    ...\n",
    "  def find(self, username):\n",
    "    ...\n",
    "  def update(self, user):\n",
    "    ...\n",
    "  def list_all(self):\n",
    "    ..."
   ]
  },
  {
   "cell_type": "markdown",
   "id": "c3f0dce8-016e-4058-b50e-54a40c8c31f5",
   "metadata": {},
   "source": [
    "## 2. Come up with some example inputs & outputs."
   ]
  },
  {
   "cell_type": "code",
   "execution_count": 104,
   "id": "6d7cb440-73e6-46d4-9819-99c6ff961b6d",
   "metadata": {},
   "outputs": [],
   "source": [
    "aakash = User('aakash', 'Aakash Rai', 'aakash@example.com')\n",
    "biraj = User('biraj', 'Biraj Das', 'biraj@example.com')\n",
    "hemanth = User('hemanth', 'Hemanth Jain', 'hemanth@example.com')\n",
    "jadhesh = User('jadhesh', 'Jadhesh Verma', 'jadhesh@example.com')\n",
    "siddhant = User('siddhant', 'Siddhant Sinha', 'siddhant@example.com')\n",
    "sonaksh = User('sonaksh', 'Sonaksh Kumar', 'sonaksh@example.com')\n",
    "vishal = User('vishal', 'Vishal Goel', 'vishal@example.com')"
   ]
  },
  {
   "cell_type": "code",
   "execution_count": 105,
   "id": "c694a97d-0f0d-4476-9114-2183f44381f6",
   "metadata": {},
   "outputs": [],
   "source": [
    "users = [aakash, biraj, hemanth, jadhesh, siddhant, sonaksh, vishal]"
   ]
  },
  {
   "cell_type": "code",
   "execution_count": 106,
   "id": "38db0bbd-8480-46bc-9be5-6914446114c5",
   "metadata": {},
   "outputs": [
    {
     "data": {
      "text/plain": [
       "('biraj', 'biraj@example.com', 'Biraj Das')"
      ]
     },
     "execution_count": 106,
     "metadata": {},
     "output_type": "execute_result"
    }
   ],
   "source": [
    "biraj.username, biraj.email, biraj.name"
   ]
  },
  {
   "cell_type": "code",
   "execution_count": 107,
   "id": "2dc75746-3009-4265-a2f4-f8b14ff3b7d2",
   "metadata": {},
   "outputs": [
    {
     "name": "stdout",
     "output_type": "stream",
     "text": [
      "User(username='aakash', name='Aakash Rai', email='aakash@example.com')\n"
     ]
    }
   ],
   "source": [
    "print(aakash)"
   ]
  },
  {
   "cell_type": "code",
   "execution_count": 108,
   "id": "9efb80a3-f298-4181-94b6-e8999f68e36a",
   "metadata": {},
   "outputs": [
    {
     "data": {
      "text/plain": [
       "[User(username='aakash', name='Aakash Rai', email='aakash@example.com'),\n",
       " User(username='biraj', name='Biraj Das', email='biraj@example.com'),\n",
       " User(username='hemanth', name='Hemanth Jain', email='hemanth@example.com'),\n",
       " User(username='jadhesh', name='Jadhesh Verma', email='jadhesh@example.com'),\n",
       " User(username='siddhant', name='Siddhant Sinha', email='siddhant@example.com'),\n",
       " User(username='sonaksh', name='Sonaksh Kumar', email='sonaksh@example.com'),\n",
       " User(username='vishal', name='Vishal Goel', email='vishal@example.com')]"
      ]
     },
     "execution_count": 108,
     "metadata": {},
     "output_type": "execute_result"
    }
   ],
   "source": [
    "users"
   ]
  },
  {
   "cell_type": "markdown",
   "id": "ee5d05a1-8890-4ec5-99c9-79eed301015e",
   "metadata": {},
   "source": [
    "Since we haven't implemented our data structure yet, it's not possible to list sample outputs. However you can try to come up with different scenarios to test future implementations\n",
    "\n",
    "**Exercise:** List some scenarios for testing the class methods `insert`, `find`, `update` and `list_all`.\n",
    "\n",
    "1. Insert:\n",
    "    1. Inserting into an empty database of users\n",
    "    2. Trying to insert a user with a username that already exists\n",
    "    3. Inserting a user with a username that does not exist\n",
    "    4. ???\n",
    "\n",
    "2. Find:\n",
    "    1. ???\n",
    "    2. ???\n",
    "    3. ???\n",
    "\n",
    "3. Update:\n",
    "    1. ???\n",
    "    2. ???\n",
    "    3. ???\n",
    "\n",
    "4. List:\n",
    "    1. ???\n",
    "    2. ???\n",
    "    3. ???\n"
   ]
  },
  {
   "cell_type": "markdown",
   "id": "6c8fbdc4-2c2a-4db7-ba96-f1b86a5b0584",
   "metadata": {},
   "source": [
    "## 3. Come up with a correct solution. State it in plain English.\n",
    "\n",
    "Here's a simple and easy solution to the problem: we store the `User` objects in a list sorted by usernames. \n",
    "\n",
    "The various functions can be implemented as follows:\n",
    "\n",
    "1. **Insert**: Loop through the list and add the new user at a position that keeps the list sorted.\n",
    "2. **Find**: Loop through the list and find the user object with the username matching the query.\n",
    "3. **Update**: Loop through the list, find the user object matching the query and update the details\n",
    "4. **List**: Return the list of user objects.\n",
    "\n",
    "We can use the fact usernames, which are are strings can be compared using the `<`, `>` and `==` operators in Python."
   ]
  },
  {
   "cell_type": "code",
   "execution_count": 118,
   "id": "6edd7817-526d-40a1-88d3-a6955356b41c",
   "metadata": {},
   "outputs": [],
   "source": [
    "class UserDatabase:\n",
    "  def __init__(self):\n",
    "    self.users = []\n",
    "    \n",
    "  def insert(self, user):\n",
    "    i = 0\n",
    "    while i < len(self.users):\n",
    "      if self.users[i].username > user.username:\n",
    "        break\n",
    "      i += 1\n",
    "    self.users.insert(i, user)\n",
    "    \n",
    "  def find(self, username):\n",
    "    for user in self.users:\n",
    "      if user.username == username:\n",
    "        return user\n",
    "      \n",
    "  def update(self, user):\n",
    "    target = self.find(user.username)\n",
    "    target.name, target.email = user.name, user.email\n",
    "    \n",
    "  def list_all(self):\n",
    "    return self.users"
   ]
  },
  {
   "cell_type": "code",
   "execution_count": 119,
   "id": "77eb6210-5ba7-4109-8ab6-09497df4219c",
   "metadata": {},
   "outputs": [],
   "source": [
    "database = UserDatabase()"
   ]
  },
  {
   "cell_type": "code",
   "execution_count": 120,
   "id": "9fd1476a-bac9-445a-b86e-6fd776c519ad",
   "metadata": {},
   "outputs": [],
   "source": [
    "database.insert(hemanth)\n",
    "database.insert(aakash)\n",
    "database.insert(siddhant)"
   ]
  },
  {
   "cell_type": "code",
   "execution_count": 121,
   "id": "d0a2149b-4d71-406f-91d5-0331b5f62f54",
   "metadata": {},
   "outputs": [
    {
     "data": {
      "text/plain": [
       "User(username='siddhant', name='Siddhant Sinha', email='siddhant@example.com')"
      ]
     },
     "execution_count": 121,
     "metadata": {},
     "output_type": "execute_result"
    }
   ],
   "source": [
    "user = database.find('siddhant')\n",
    "user"
   ]
  },
  {
   "cell_type": "code",
   "execution_count": 123,
   "id": "076a4d16-ce32-45ac-ba17-0bb4dab7023d",
   "metadata": {},
   "outputs": [
    {
     "data": {
      "text/plain": [
       "User(username='siddhant', name='Siddhant U', email='siddhant@example.com')"
      ]
     },
     "execution_count": 123,
     "metadata": {},
     "output_type": "execute_result"
    }
   ],
   "source": [
    "database.update(User(username='siddhant', name='Siddhant U', email='siddhant@example.com'))\n",
    "user"
   ]
  },
  {
   "cell_type": "code",
   "execution_count": 124,
   "id": "0c6b2c0d-2d48-49c1-ab84-f4f00488346c",
   "metadata": {},
   "outputs": [
    {
     "data": {
      "text/plain": [
       "[User(username='aakash', name='Aakash Rai', email='aakash@example.com'),\n",
       " User(username='hemanth', name='Hemanth Jain', email='hemanth@example.com'),\n",
       " User(username='siddhant', name='Siddhant U', email='siddhant@example.com')]"
      ]
     },
     "execution_count": 124,
     "metadata": {},
     "output_type": "execute_result"
    }
   ],
   "source": [
    "database.list_all()"
   ]
  },
  {
   "cell_type": "code",
   "execution_count": 125,
   "id": "5c044f13-8c64-4bbd-8745-ac55972791be",
   "metadata": {},
   "outputs": [],
   "source": [
    "database.insert(biraj)"
   ]
  },
  {
   "cell_type": "code",
   "execution_count": 126,
   "id": "ffe68cc1-1c8d-4701-a408-dcd567bbbd95",
   "metadata": {},
   "outputs": [
    {
     "data": {
      "text/plain": [
       "[User(username='aakash', name='Aakash Rai', email='aakash@example.com'),\n",
       " User(username='biraj', name='Biraj Das', email='biraj@example.com'),\n",
       " User(username='hemanth', name='Hemanth Jain', email='hemanth@example.com'),\n",
       " User(username='siddhant', name='Siddhant U', email='siddhant@example.com')]"
      ]
     },
     "execution_count": 126,
     "metadata": {},
     "output_type": "execute_result"
    }
   ],
   "source": [
    "database.list_all()"
   ]
  },
  {
   "cell_type": "markdown",
   "id": "30e8499d-5e9e-4f16-bd1b-a50ca31b720b",
   "metadata": {},
   "source": [
    "## 5. Analyze the algorithm's complexity and identify inefficiencies\n",
    "\n",
    "The operations `insert`, `find`, `update` involves iterating over a list of users, in the worst case, they may take up to `N` iterations to return a result, where `N` is the total number of users. `list_all` however, simply returns the existing internal list of users. \n",
    "\n",
    "Thus, the time complexities of the various operations are:\n",
    "\n",
    "1. Insert: **O(N)**\n",
    "2. Find: **O(N)**\n",
    "3. Update: **O(N)**\n",
    "4. List: **O(1)**\n",
    "\n",
    "**Exercise:** Verify that the space complexity of each operation is **O(1)**.\n",
    "\n",
    "Is this good enough? To get a sense how long each function might take if there are 100 million users on the platform, we can simply run an `for` or `while` loop on 10 million numbers."
   ]
  },
  {
   "cell_type": "code",
   "execution_count": 127,
   "id": "e69c6dce-def1-4d1c-8be9-8673280a92d2",
   "metadata": {},
   "outputs": [
    {
     "name": "stdout",
     "output_type": "stream",
     "text": [
      "CPU times: user 5.65 s, sys: 0 ns, total: 5.65 s\n",
      "Wall time: 5.65 s\n"
     ]
    }
   ],
   "source": [
    "%%time\n",
    "for i in range(100000000):\n",
    "  j = i*i"
   ]
  },
  {
   "cell_type": "markdown",
   "id": "5e33a0c6-c657-4cae-9b3e-724071809d8c",
   "metadata": {},
   "source": [
    "It takes almost 10 (sic) seconds to execute all the iterations in the above cell. \n",
    "\n",
    "* A 10-second delay for fetching user profiles will lead to a suboptimal users experience and may cause many users to stop using the platform altogether. \n",
    "* The 10-second processing time for each profile request will also significantly limit the number of users that can access the platform at a time or increase the cloud infrastructure costs for the company by millions of dollars.\n",
    "\n",
    "As a senior backend engineer, you must come up with a more efficient data structure! Choosing the right data structure for the requirements at hand is an important skill. It's apparent that a sorted list of users might not be the best data structure to organize profile information for millions of users."
   ]
  },
  {
   "cell_type": "code",
   "execution_count": 128,
   "id": "c434e517-5a0a-4d4e-bb67-251c5dd614b2",
   "metadata": {},
   "outputs": [],
   "source": [
    "!pip install jovian --upgrade --quiet"
   ]
  },
  {
   "cell_type": "code",
   "execution_count": 129,
   "id": "341571dc-bd5e-47ab-bfd7-ed3478a00bfe",
   "metadata": {},
   "outputs": [
    {
     "data": {
      "application/javascript": [
       "if (window.IPython && IPython.notebook.kernel) IPython.notebook.kernel.execute('jovian.utils.jupyter.get_notebook_name_saved = lambda: \"' + IPython.notebook.notebook_name + '\"')"
      ],
      "text/plain": [
       "<IPython.core.display.Javascript object>"
      ]
     },
     "metadata": {},
     "output_type": "display_data"
    }
   ],
   "source": [
    "import jovian"
   ]
  },
  {
   "cell_type": "code",
   "execution_count": 130,
   "id": "1af62ecb-639d-4045-9cb4-bdc83e300bb7",
   "metadata": {},
   "outputs": [
    {
     "data": {
      "application/javascript": [
       "window.require && require([\"base/js/namespace\"],function(Jupyter){Jupyter.notebook.save_checkpoint()})"
      ],
      "text/plain": [
       "<IPython.core.display.Javascript object>"
      ]
     },
     "metadata": {},
     "output_type": "display_data"
    },
    {
     "name": "stdout",
     "output_type": "stream",
     "text": [
      "[jovian] Creating a new project \"biscotty666/binary_search_trees\"\u001b[0m\n",
      "[jovian] Committed successfully! https://jovian.ai/biscotty666/binary-search-trees\u001b[0m\n"
     ]
    },
    {
     "data": {
      "text/plain": [
       "'https://jovian.ai/biscotty666/binary-search-trees'"
      ]
     },
     "execution_count": 130,
     "metadata": {},
     "output_type": "execute_result"
    }
   ],
   "source": [
    "jovian.commit(project='binary_search_trees', filename='binary_search_trees',environment=None)"
   ]
  },
  {
   "cell_type": "markdown",
   "id": "988de8e4-244b-40a2-81ea-fa2d060bf233",
   "metadata": {},
   "source": [
    "## Balanced Binary Search Trees\n",
    "\n",
    "<img src=\"https://i.imgur.com/Mqef5b3.png\" width=\"520\">\n",
    "\n",
    "For our use case, we require the binary tree to have some additional properties:\n",
    "\n",
    "1. **Keys and Values**: Each node of the tree stores a key (a username) and a value (a `User` object). Only keys are shown in the picture above for brevity. A binary tree where nodes have both a key and a value is often referred to as a **map** or **treemap** (because it maps keys to values).\n",
    "2. **Binary Search Tree**: The *left subtree* of any node only contains nodes with keys that are lexicographically smaller than the node's key, and the *right subtree* of any node only contains nodes with keys that lexicographically larger than the node's key. A tree that satisfies this property is called a **binary search trees**, and it's easy to locate a specific key by traversing a single path down from the root note.\n",
    "3. **Balanced Tree**: The tree is **balanced** i.e. it does not skew too heavily to one side or the other. The left and right subtrees of any node shouldn't differ in height/depth by more than 1 level.\n",
    "\n",
    "\n",
    "### Height of a Binary Tree\n",
    "\n",
    "The number of levels in a tree is called its height. As you can tell from the picture above, each level of a tree contains twice as many nodes as the previous level. \n",
    "\n",
    "For a tree of height `k`, here's a list of the number of nodes at each level:\n",
    "\n",
    "Level 0: `1`\n",
    "\n",
    "Level 1: `2`\n",
    "\n",
    "Level 2: `4` i.e. `2^2`\n",
    "\n",
    "Level 3: `8` i.e. `2^3`\n",
    "\n",
    "...\n",
    "\n",
    "Level k-1: `2^(k-1)`\n",
    "\n",
    "If the total number of nodes in the tree is `N`, then it follows that\n",
    "\n",
    "```\n",
    "N = 1 + 2^1 + 2^2 + 2^3 + ... + 2^(k-1)\n",
    "```\n",
    "\n",
    "\n",
    "We can simplify this equation by adding `1` on each side:\n",
    "\n",
    "```\n",
    "N + 1 = 1 + 1 + 2^1 + 2^2 + 2^3 + ... + 2^(k-1) \n",
    "\n",
    "N + 1 = 2^1 + 2^1 + 2^2+ 2^3 + ... + 2^(k-1) \n",
    "\n",
    "N + 1 = = 2^2 + 2^2 + 2^3 + ... + 2^(k-1)\n",
    "\n",
    "N + 1 = = 2^3 + 2^3 + ... + 2^(k-1)\n",
    "\n",
    "...\n",
    "\n",
    "N + 1 = 2^(k-1) + 2^(k-1)\n",
    "\n",
    "N + 1 = 2^k\n",
    "\n",
    "k = log(N + 1) <= log(N) + 1 \n",
    "\n",
    "```\n",
    "\n",
    "Thus, to store `N` records we require a balanced binary search tree (BST) of height no larger than `log(N) + 1`. This is a very useful property, in combination with the fact that nodes are arranged in a way that makes it easy to find a specific key by following a single path down from the root. \n",
    "\n",
    "As we'll see soon, the `insert`, `find` and `update` operations in a balanced BST have time complexity `O(log N)` since they all involve traversing a single path down from the root of the tree."
   ]
  },
  {
   "cell_type": "markdown",
   "id": "d7828a33-905e-434a-be1a-b09d4514429c",
   "metadata": {},
   "source": [
    "## Binary Tree\n",
    "\n",
    "> **QUESTION 2**: Implement a binary tree using Python, and show its usage with some examples.\n",
    "\n",
    "To begin, we'll create simple binary tree (without any of the additional properties) containing numbers as keys within nodes. Here's an example:\n",
    "\n",
    "<img src=\"https://i.imgur.com/hg2ZG5h.png\" width=\"240\">\n",
    "\n",
    "Here's a simple class representing a node within a binary tree.\n"
   ]
  },
  {
   "cell_type": "code",
   "execution_count": 133,
   "id": "b53650d3-f5e0-4881-9b20-12f8b2b92b0f",
   "metadata": {},
   "outputs": [],
   "source": [
    "class TreeNode:\n",
    "  def __init__(self, key):\n",
    "    self.key = key\n",
    "    self.left = None\n",
    "    self.right = None"
   ]
  },
  {
   "cell_type": "code",
   "execution_count": 134,
   "id": "5e761854-58a6-4d0c-a22f-046256636a1c",
   "metadata": {},
   "outputs": [],
   "source": [
    "node0 = TreeNode(3)\n",
    "node1 = TreeNode(4)\n",
    "node2 = TreeNode(5)"
   ]
  },
  {
   "cell_type": "code",
   "execution_count": 135,
   "id": "7a48b40c-4596-4362-9a90-ef09168f645d",
   "metadata": {},
   "outputs": [
    {
     "data": {
      "text/plain": [
       "<__main__.TreeNode at 0x7f67e929e280>"
      ]
     },
     "execution_count": 135,
     "metadata": {},
     "output_type": "execute_result"
    }
   ],
   "source": [
    "node0"
   ]
  },
  {
   "cell_type": "code",
   "execution_count": 136,
   "id": "26a48640-423d-45b9-b030-acb4e4812eaa",
   "metadata": {},
   "outputs": [
    {
     "data": {
      "text/plain": [
       "3"
      ]
     },
     "execution_count": 136,
     "metadata": {},
     "output_type": "execute_result"
    }
   ],
   "source": [
    "node0.key"
   ]
  },
  {
   "cell_type": "code",
   "execution_count": 137,
   "id": "516a91fc-ea8e-486e-8ce7-d9aea13b4e4f",
   "metadata": {},
   "outputs": [],
   "source": [
    "node0.left = node1\n",
    "node0.right = node2"
   ]
  },
  {
   "cell_type": "code",
   "execution_count": 138,
   "id": "24ae4e2c-da99-4681-94c1-1c6609ee4c93",
   "metadata": {},
   "outputs": [],
   "source": [
    "tree = node0"
   ]
  },
  {
   "cell_type": "code",
   "execution_count": 139,
   "id": "cd79e2f7-3cfd-4b84-9d48-1d12f715c61d",
   "metadata": {},
   "outputs": [
    {
     "data": {
      "text/plain": [
       "4"
      ]
     },
     "execution_count": 139,
     "metadata": {},
     "output_type": "execute_result"
    }
   ],
   "source": [
    "tree.left.key"
   ]
  },
  {
   "cell_type": "code",
   "execution_count": 140,
   "id": "e48684be-9609-40f8-98c5-66609c041b96",
   "metadata": {},
   "outputs": [
    {
     "data": {
      "text/plain": [
       "5"
      ]
     },
     "execution_count": 140,
     "metadata": {},
     "output_type": "execute_result"
    }
   ],
   "source": [
    "tree.right.key"
   ]
  },
  {
   "cell_type": "markdown",
   "id": "ec227ccc-0f6f-4f01-b89e-380ceabef213",
   "metadata": {},
   "source": [
    "Going forward, we'll use the term \"tree\" to refer to the root node. The term \"node\" can refer to any node in a tree, not necessarily the root.\n",
    "\n",
    "**Exercise:** Create the following binary tree using the `TreeNode` class defined above.\n",
    "\n",
    "<img src=\"https://i.imgur.com/d7djJAf.png\" width=\"540\">"
   ]
  },
  {
   "cell_type": "code",
   "execution_count": 141,
   "id": "e41165c7-a353-459c-8615-458a3ac7e4fa",
   "metadata": {},
   "outputs": [],
   "source": [
    "tree_tuple = ((1,3,None), 2, ((None, 3, 4), 5, (6, 7, 8)))"
   ]
  },
  {
   "cell_type": "code",
   "execution_count": 142,
   "id": "6c6da39c-11ee-4bf9-8638-fbbdbdb0d371",
   "metadata": {},
   "outputs": [],
   "source": [
    "def parse_tuple(data):\n",
    "  if isinstance(data, tuple) and len(data) == 3:\n",
    "    node = TreeNode(data[1])\n",
    "    node.left = parse_tuple(data[0])\n",
    "    node.right = parse_tuple(data[2])\n",
    "  elif data is None:\n",
    "    node = None\n",
    "  else:\n",
    "    node = TreeNode(data)\n",
    "  return node"
   ]
  },
  {
   "cell_type": "code",
   "execution_count": 143,
   "id": "eb836628-ecb9-4f22-809e-fdb12e2b8732",
   "metadata": {},
   "outputs": [],
   "source": [
    "tree2 = parse_tuple(tree_tuple)"
   ]
  },
  {
   "cell_type": "code",
   "execution_count": 144,
   "id": "70fb58be-c17c-4b3e-8688-0715392a2c0c",
   "metadata": {},
   "outputs": [
    {
     "data": {
      "text/plain": [
       "<__main__.TreeNode at 0x7f67e9375f40>"
      ]
     },
     "execution_count": 144,
     "metadata": {},
     "output_type": "execute_result"
    }
   ],
   "source": [
    "tree2"
   ]
  },
  {
   "cell_type": "code",
   "execution_count": 145,
   "id": "d5f0fcf2-9124-48fc-9ffb-23491ee051c7",
   "metadata": {},
   "outputs": [
    {
     "data": {
      "text/plain": [
       "2"
      ]
     },
     "execution_count": 145,
     "metadata": {},
     "output_type": "execute_result"
    }
   ],
   "source": [
    "tree2.key"
   ]
  },
  {
   "cell_type": "code",
   "execution_count": 146,
   "id": "a600651d-f2df-45d2-bccb-adc8b736d199",
   "metadata": {},
   "outputs": [
    {
     "data": {
      "text/plain": [
       "(3, 5)"
      ]
     },
     "execution_count": 146,
     "metadata": {},
     "output_type": "execute_result"
    }
   ],
   "source": [
    "tree2.left.key, tree2.right.key"
   ]
  },
  {
   "cell_type": "code",
   "execution_count": 147,
   "id": "027b1f6e-79d4-446a-baec-47e8dc7457fb",
   "metadata": {},
   "outputs": [
    {
     "data": {
      "text/plain": [
       "(1, None, 3, 7)"
      ]
     },
     "execution_count": 147,
     "metadata": {},
     "output_type": "execute_result"
    }
   ],
   "source": [
    "tree2.left.left.key, tree2.left.right, tree2.right.left.key, tree2.right.right.key"
   ]
  },
  {
   "cell_type": "code",
   "execution_count": 148,
   "id": "23fcc19b-5a20-4051-b4e1-2fb9ce307c20",
   "metadata": {},
   "outputs": [
    {
     "data": {
      "text/plain": [
       "(4, 6, 8)"
      ]
     },
     "execution_count": 148,
     "metadata": {},
     "output_type": "execute_result"
    }
   ],
   "source": [
    "tree2.right.left.right.key, tree2.right.right.left.key, tree2.right.right.right.key"
   ]
  },
  {
   "cell_type": "markdown",
   "id": "3e0afd52-c255-4db9-83b2-7f88a56cb1a9",
   "metadata": {},
   "source": [
    "**Exercise:** Define a function `tree_to_tuple` that converts a binary tree into a tuple representing the same tree. E.g. `tree_to_tuple` converts the tree created above to the tuple `((1, 3, None), 2, ((None, 3, 4), 5, (6, 7, 8)))`. *Hint*: Use recursion."
   ]
  },
  {
   "cell_type": "code",
   "execution_count": 149,
   "id": "35fb6b84-a7a3-4d30-b793-87515388c7f9",
   "metadata": {},
   "outputs": [],
   "source": [
    "def tree_to_tuple(node):\n",
    "  ..."
   ]
  },
  {
   "cell_type": "code",
   "execution_count": 150,
   "id": "77eeb08d-9f37-41d7-a868-7846ff55476a",
   "metadata": {},
   "outputs": [],
   "source": [
    "def display_keys(node, space='\\t', level=0):\n",
    "  if node is None:\n",
    "    print(space*level + '∅')\n",
    "    return\n",
    "  \n",
    "  if node.left is None and node.right is None:\n",
    "    print(space*level + str(node.key))\n",
    "    return\n",
    "  \n",
    "  display_keys(node.right, space, level+1)\n",
    "  print(space*level + str(node.key))\n",
    "  display_keys(node.left, space, level+1)"
   ]
  },
  {
   "cell_type": "code",
   "execution_count": 157,
   "id": "a72fe978-a1a0-4d4c-8b7d-b8fb36800bbf",
   "metadata": {},
   "outputs": [
    {
     "name": "stdout",
     "output_type": "stream",
     "text": [
      "         8\n",
      "      7\n",
      "         6\n",
      "   5\n",
      "         4\n",
      "      3\n",
      "         ∅\n",
      "2\n",
      "      ∅\n",
      "   3\n",
      "      1\n"
     ]
    }
   ],
   "source": [
    "display_keys(tree2, '   ')"
   ]
  },
  {
   "cell_type": "code",
   "execution_count": null,
   "id": "149cbe27-da0a-46fe-bbfe-b018b5b06b12",
   "metadata": {},
   "outputs": [],
   "source": []
  }
 ],
 "metadata": {
  "kernelspec": {
   "display_name": "Python 3 (ipykernel)",
   "language": "python",
   "name": "python3"
  },
  "language_info": {
   "codemirror_mode": {
    "name": "ipython",
    "version": 3
   },
   "file_extension": ".py",
   "mimetype": "text/x-python",
   "name": "python",
   "nbconvert_exporter": "python",
   "pygments_lexer": "ipython3",
   "version": "3.9.13"
  }
 },
 "nbformat": 4,
 "nbformat_minor": 5
}
