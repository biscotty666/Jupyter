{
 "cells": [
  {
   "cell_type": "markdown",
   "id": "b0357d0f-61a6-4071-8e08-d008e9f05e8e",
   "metadata": {},
   "source": [
    "# Binary Search and Complexity Analysis\n",
    "\n",
    "| [Video](https://www.youtube.com/watch?v=pkYVOmU3MgA) |\n",
    "[Website](https://jovian.ai/learn/data-structures-and-algorithms-in-python) |\n",
    "[Chapter](https://jovian.ai/aakashns/python-binary-search) |"
   ]
  },
  {
   "cell_type": "code",
   "execution_count": 54,
   "id": "f69f8717-68ff-425a-b554-4887de62b039",
   "metadata": {},
   "outputs": [],
   "source": [
    "import math"
   ]
  },
  {
   "cell_type": "markdown",
   "id": "72a28b54-19b5-4a9e-adf8-480461609cc2",
   "metadata": {},
   "source": [
    "## 1. State the problem clearly. Identify the input & output formats."
   ]
  },
  {
   "cell_type": "markdown",
   "id": "3bf43716-16ec-40c2-a184-83927d65f275",
   "metadata": {},
   "source": [
    "Problem signature"
   ]
  },
  {
   "cell_type": "code",
   "execution_count": 55,
   "id": "231fb774-e0f9-4139-ac44-14e8264f8ab1",
   "metadata": {},
   "outputs": [],
   "source": [
    "def locate_card(cards, query):\n",
    "  ...\n",
    "  # return position (index value)"
   ]
  },
  {
   "cell_type": "markdown",
   "id": "4bff7ed4-3da6-4ac4-a9a3-86591224c5c9",
   "metadata": {},
   "source": [
    "## 2. Come up with some example inputs & outputs. Try to cover all edge cases."
   ]
  },
  {
   "cell_type": "code",
   "execution_count": 56,
   "id": "f01af65f-9bdb-4932-8e11-d0dcccc5153b",
   "metadata": {},
   "outputs": [],
   "source": [
    "cards = [13, 11, 10, 7, 4, 3, 1, 0]\n",
    "query = 7\n",
    "output = 3"
   ]
  },
  {
   "cell_type": "markdown",
   "id": "a6816928-ae3d-4617-bf2e-0962e9221563",
   "metadata": {},
   "source": [
    "Create test function"
   ]
  },
  {
   "cell_type": "code",
   "execution_count": 57,
   "id": "17a62ead-7b5e-4ce3-b326-c871265ebc28",
   "metadata": {},
   "outputs": [
    {
     "name": "stdout",
     "output_type": "stream",
     "text": [
      "None\n"
     ]
    }
   ],
   "source": [
    "result = locate_card(cards, query)\n",
    "print(result)"
   ]
  },
  {
   "cell_type": "markdown",
   "id": "b063821a-1cae-42e4-874a-c6d896e225d1",
   "metadata": {},
   "source": [
    "Create dictionary representations of tests"
   ]
  },
  {
   "cell_type": "code",
   "execution_count": 58,
   "id": "550ce1d3-5eb4-403e-bc28-049915f29bd9",
   "metadata": {},
   "outputs": [],
   "source": [
    "test = {\n",
    "  'input': {\n",
    "    'cards': [13, 11, 10, 7, 4, 3, 1, 0],\n",
    "    'query': 7\n",
    "  },\n",
    "  'output': 3\n",
    "}"
   ]
  },
  {
   "cell_type": "code",
   "execution_count": 59,
   "id": "4bf33d40-8a58-4e9f-a8a0-f2f019b0d24d",
   "metadata": {},
   "outputs": [
    {
     "data": {
      "text/plain": [
       "False"
      ]
     },
     "execution_count": 59,
     "metadata": {},
     "output_type": "execute_result"
    }
   ],
   "source": [
    "locate_card(**test['input']) == test['output']"
   ]
  },
  {
   "cell_type": "markdown",
   "id": "77cac10c-774e-4fc4-86c2-10c8a63c1f7e",
   "metadata": {},
   "source": [
    "Our function should be able to handle any set of valid inputs we pass into it. Here's a list of some possible variations we might encounter:\n",
    "\n",
    "1. The number `query` occurs somewhere in the middle of the list `cards`.\n",
    "2. `query` is the first element in `cards`.\n",
    "3. `query` is the last element in `cards`.\n",
    "4. The list `cards` contains just one element, which is `query`.\n",
    "5. The list `cards` does not contain number `query`.\n",
    "6. The list `cards` is empty.\n",
    "7. The list `cards` contains repeating numbers.\n",
    "8. The number `query` occurs at more than one position in `cards`.\n",
    "9. (can you think of any more variations?)"
   ]
  },
  {
   "cell_type": "code",
   "execution_count": 60,
   "id": "d26593cc-b0f7-4e95-b040-c41dbd2bb68d",
   "metadata": {},
   "outputs": [],
   "source": [
    "tests = []\n",
    "tests.append(test)\n",
    "\n",
    "tests.append({\n",
    "  'input': {\n",
    "    'cards': [13, 11, 10, 7, 4, 3, 1, 0],\n",
    "    'query': 1\n",
    "  },\n",
    "  'output': 6\n",
    "})\n",
    "tests.append({\n",
    "  'input': {\n",
    "    'cards': [4,2,1,-1],\n",
    "    'query': 4\n",
    "  },\n",
    "  'output': 0\n",
    "})\n",
    "tests.append({\n",
    "  'input': {\n",
    "    'cards': [13, -1, -9, -12],\n",
    "    'query': -12\n",
    "  },\n",
    "  'output': 3\n",
    "})\n",
    "tests.append({\n",
    "  'input': {\n",
    "    'cards': [7],\n",
    "    'query': 7\n",
    "  },\n",
    "  'output': 0\n",
    "})\n",
    "tests.append({\n",
    "  'input': {\n",
    "    'cards': [13, 11, 10, 7, 4, 3, 1, 0],\n",
    "    'query': 8\n",
    "  },\n",
    "  'output': -1 # What should we do if query does not exist in cards?\n",
    "})\n",
    "tests.append({\n",
    "  'input': {\n",
    "    'cards': [],\n",
    "    'query': 7\n",
    "  },\n",
    "  'output': -1 # What should we do if cards is empty (same as above?)?\n",
    "})\n",
    "tests.append({\n",
    "  'input': {\n",
    "    'cards': [13, 11, 11, 10, 7, 4, 3, 3, 1, 0],\n",
    "    'query': 7\n",
    "  },\n",
    "  'output': 4\n",
    "})\n",
    "tests.append({\n",
    "  'input': {\n",
    "    'cards': [13, 11, 10, 7, 7, 4, 3, 1, 0],\n",
    "    'query': 7\n",
    "  },\n",
    "  'output': 3 # Assume taking first one\n",
    "})"
   ]
  },
  {
   "cell_type": "code",
   "execution_count": 61,
   "id": "4b90ba07-df18-4aab-943a-ca6c9c95143e",
   "metadata": {},
   "outputs": [
    {
     "data": {
      "text/plain": [
       "[{'input': {'cards': [13, 11, 10, 7, 4, 3, 1, 0], 'query': 7}, 'output': 3},\n",
       " {'input': {'cards': [13, 11, 10, 7, 4, 3, 1, 0], 'query': 1}, 'output': 6},\n",
       " {'input': {'cards': [4, 2, 1, -1], 'query': 4}, 'output': 0},\n",
       " {'input': {'cards': [13, -1, -9, -12], 'query': -12}, 'output': 3},\n",
       " {'input': {'cards': [7], 'query': 7}, 'output': 0},\n",
       " {'input': {'cards': [13, 11, 10, 7, 4, 3, 1, 0], 'query': 8}, 'output': -1},\n",
       " {'input': {'cards': [], 'query': 7}, 'output': -1},\n",
       " {'input': {'cards': [13, 11, 11, 10, 7, 4, 3, 3, 1, 0], 'query': 7},\n",
       "  'output': 4},\n",
       " {'input': {'cards': [13, 11, 10, 7, 7, 4, 3, 1, 0], 'query': 7}, 'output': 3}]"
      ]
     },
     "execution_count": 61,
     "metadata": {},
     "output_type": "execute_result"
    }
   ],
   "source": [
    "tests"
   ]
  },
  {
   "cell_type": "markdown",
   "id": "290bef6a-fc30-4ad9-8917-665916a2ac7c",
   "metadata": {},
   "source": [
    "### 3. Come up with a correct solution for the problem. State it in plain English.\n",
    "\n",
    "Linear Search Algorithm/Brute force solution"
   ]
  },
  {
   "cell_type": "markdown",
   "id": "e54ef5f7-62c1-4d1c-a6b4-0cbfedfa3a39",
   "metadata": {},
   "source": [
    "1. create variable `position` with value 0\n",
    "2. check number at `position` in `cards` to see if it matches `query`\n",
    "3. if it does, return the `position`\n",
    "4. if not, increment `position` and go back to step 2\n",
    "5. return -1"
   ]
  },
  {
   "cell_type": "code",
   "execution_count": 62,
   "id": "05a48cf8-9e72-43f2-b0f7-229006023ebb",
   "metadata": {},
   "outputs": [],
   "source": [
    "def my_locate_card(cards, query):\n",
    "  position = 0\n",
    "  for card in cards:\n",
    "    if card == query:\n",
    "      return position\n",
    "    position += 1\n",
    "  return -1\n",
    "#### With a while loop instead\n",
    "def locate_card(cards, query):\n",
    "  position = 0\n",
    "  while True:\n",
    "    if cards[position] == query:\n",
    "      return position\n",
    "    position += 1\n",
    "    if position == len(cards):\n",
    "      return -1"
   ]
  },
  {
   "cell_type": "code",
   "execution_count": 63,
   "id": "4a059f65-ad76-4b75-84d1-da915a64473b",
   "metadata": {},
   "outputs": [
    {
     "data": {
      "text/plain": [
       "{'input': {'cards': [13, 11, 10, 7, 4, 3, 1, 0], 'query': 7}, 'output': 3}"
      ]
     },
     "execution_count": 63,
     "metadata": {},
     "output_type": "execute_result"
    }
   ],
   "source": [
    "test"
   ]
  },
  {
   "cell_type": "code",
   "execution_count": 64,
   "id": "48cac9d4-0679-4595-8082-3df4803c3579",
   "metadata": {},
   "outputs": [
    {
     "data": {
      "text/plain": [
       "True"
      ]
     },
     "execution_count": 64,
     "metadata": {},
     "output_type": "execute_result"
    }
   ],
   "source": [
    "result = my_locate_card(test['input']['cards'], test['input']['query'])\n",
    "result == test['output']"
   ]
  },
  {
   "cell_type": "code",
   "execution_count": 65,
   "id": "10f552ec-70ca-48ca-8898-c4c16cc4373b",
   "metadata": {},
   "outputs": [
    {
     "data": {
      "text/plain": [
       "True"
      ]
     },
     "execution_count": 65,
     "metadata": {},
     "output_type": "execute_result"
    }
   ],
   "source": [
    "result = locate_card(test['input']['cards'], test['input']['query'])\n",
    "result == test['output']"
   ]
  },
  {
   "cell_type": "markdown",
   "id": "11334416-3bcb-4c1f-bdbd-f9b4d365b177",
   "metadata": {},
   "source": [
    "To help you test your functions easily the `jovian` Python library provides a helper function `evalute_test_case`. Apart from checking whether the function produces the expected result, it also displays the input, expected output, actual output from the function, and the execution time of the function."
   ]
  },
  {
   "cell_type": "code",
   "execution_count": 66,
   "id": "e3ea2576-a0a2-4b3e-9622-75d8900d65be",
   "metadata": {},
   "outputs": [],
   "source": [
    "!pip install jovian --upgrade --quiet"
   ]
  },
  {
   "cell_type": "code",
   "execution_count": 67,
   "id": "843d4a9c-dfec-42ce-8471-8001a0e0c8ed",
   "metadata": {},
   "outputs": [],
   "source": [
    "from jovian.pythondsa import evaluate_test_case"
   ]
  },
  {
   "cell_type": "code",
   "execution_count": 68,
   "id": "daf7d6de-c83b-4cd6-86bc-bef99fefc322",
   "metadata": {},
   "outputs": [
    {
     "name": "stdout",
     "output_type": "stream",
     "text": [
      "\n",
      "Input:\n",
      "{'cards': [13, 11, 10, 7, 4, 3, 1, 0], 'query': 7}\n",
      "\n",
      "Expected Output:\n",
      "3\n",
      "\n",
      "\n",
      "Actual Output:\n",
      "3\n",
      "\n",
      "Execution Time:\n",
      "0.004 ms\n",
      "\n",
      "Test Result:\n",
      "\u001b[92mPASSED\u001b[0m\n",
      "\n"
     ]
    },
    {
     "data": {
      "text/plain": [
       "(3, True, 0.004)"
      ]
     },
     "execution_count": 68,
     "metadata": {},
     "output_type": "execute_result"
    }
   ],
   "source": [
    "evaluate_test_case(locate_card, test)"
   ]
  },
  {
   "cell_type": "code",
   "execution_count": 69,
   "id": "564380f2-7270-4f60-9e3b-c0f29a55de72",
   "metadata": {},
   "outputs": [
    {
     "name": "stdout",
     "output_type": "stream",
     "text": [
      "\n",
      "Input:\n",
      "{'cards': [13, 11, 10, 7, 4, 3, 1, 0], 'query': 7}\n",
      "\n",
      "Expected Output:\n",
      "3\n",
      "\n",
      "\n",
      "Actual Output:\n",
      "3\n",
      "\n",
      "Execution Time:\n",
      "0.003 ms\n",
      "\n",
      "Test Result:\n",
      "\u001b[92mPASSED\u001b[0m\n",
      "\n"
     ]
    },
    {
     "data": {
      "text/plain": [
       "(3, True, 0.003)"
      ]
     },
     "execution_count": 69,
     "metadata": {},
     "output_type": "execute_result"
    }
   ],
   "source": [
    "evaluate_test_case(my_locate_card, test)"
   ]
  },
  {
   "cell_type": "code",
   "execution_count": 70,
   "id": "134dccbb-16a4-4016-94fa-9fb13cce9958",
   "metadata": {},
   "outputs": [],
   "source": [
    "from jovian.pythondsa import evaluate_test_cases"
   ]
  },
  {
   "cell_type": "code",
   "execution_count": 71,
   "id": "cb8ef4d9-c763-4e60-bea6-958d53938051",
   "metadata": {},
   "outputs": [
    {
     "name": "stdout",
     "output_type": "stream",
     "text": [
      "\n",
      "\u001b[1mTEST CASE #0\u001b[0m\n",
      "\n",
      "Input:\n",
      "{'cards': [13, 11, 10, 7, 4, 3, 1, 0], 'query': 7}\n",
      "\n",
      "Expected Output:\n",
      "3\n",
      "\n",
      "\n",
      "Actual Output:\n",
      "3\n",
      "\n",
      "Execution Time:\n",
      "0.003 ms\n",
      "\n",
      "Test Result:\n",
      "\u001b[92mPASSED\u001b[0m\n",
      "\n",
      "\n",
      "\u001b[1mTEST CASE #1\u001b[0m\n",
      "\n",
      "Input:\n",
      "{'cards': [13, 11, 10, 7, 4, 3, 1, 0], 'query': 1}\n",
      "\n",
      "Expected Output:\n",
      "6\n",
      "\n",
      "\n",
      "Actual Output:\n",
      "6\n",
      "\n",
      "Execution Time:\n",
      "0.002 ms\n",
      "\n",
      "Test Result:\n",
      "\u001b[92mPASSED\u001b[0m\n",
      "\n",
      "\n",
      "\u001b[1mTEST CASE #2\u001b[0m\n",
      "\n",
      "Input:\n",
      "{'cards': [4, 2, 1, -1], 'query': 4}\n",
      "\n",
      "Expected Output:\n",
      "0\n",
      "\n",
      "\n",
      "Actual Output:\n",
      "0\n",
      "\n",
      "Execution Time:\n",
      "0.001 ms\n",
      "\n",
      "Test Result:\n",
      "\u001b[92mPASSED\u001b[0m\n",
      "\n",
      "\n",
      "\u001b[1mTEST CASE #3\u001b[0m\n",
      "\n",
      "Input:\n",
      "{'cards': [13, -1, -9, -12], 'query': -12}\n",
      "\n",
      "Expected Output:\n",
      "3\n",
      "\n",
      "\n",
      "Actual Output:\n",
      "3\n",
      "\n",
      "Execution Time:\n",
      "0.001 ms\n",
      "\n",
      "Test Result:\n",
      "\u001b[92mPASSED\u001b[0m\n",
      "\n",
      "\n",
      "\u001b[1mTEST CASE #4\u001b[0m\n",
      "\n",
      "Input:\n",
      "{'cards': [7], 'query': 7}\n",
      "\n",
      "Expected Output:\n",
      "0\n",
      "\n",
      "\n",
      "Actual Output:\n",
      "0\n",
      "\n",
      "Execution Time:\n",
      "0.001 ms\n",
      "\n",
      "Test Result:\n",
      "\u001b[92mPASSED\u001b[0m\n",
      "\n",
      "\n",
      "\u001b[1mTEST CASE #5\u001b[0m\n",
      "\n",
      "Input:\n",
      "{'cards': [13, 11, 10, 7, 4, 3, 1, 0], 'query': 8}\n",
      "\n",
      "Expected Output:\n",
      "-1\n",
      "\n",
      "\n",
      "Actual Output:\n",
      "-1\n",
      "\n",
      "Execution Time:\n",
      "0.002 ms\n",
      "\n",
      "Test Result:\n",
      "\u001b[92mPASSED\u001b[0m\n",
      "\n",
      "\n",
      "\u001b[1mTEST CASE #6\u001b[0m\n",
      "\n",
      "Input:\n",
      "{'cards': [], 'query': 7}\n",
      "\n",
      "Expected Output:\n",
      "-1\n",
      "\n",
      "\n",
      "Actual Output:\n",
      "-1\n",
      "\n",
      "Execution Time:\n",
      "0.001 ms\n",
      "\n",
      "Test Result:\n",
      "\u001b[92mPASSED\u001b[0m\n",
      "\n",
      "\n",
      "\u001b[1mTEST CASE #7\u001b[0m\n",
      "\n",
      "Input:\n",
      "{'cards': [13, 11, 11, 10, 7, 4, 3, 3, 1, 0], 'query': 7}\n",
      "\n",
      "Expected Output:\n",
      "4\n",
      "\n",
      "\n",
      "Actual Output:\n",
      "4\n",
      "\n",
      "Execution Time:\n",
      "0.002 ms\n",
      "\n",
      "Test Result:\n",
      "\u001b[92mPASSED\u001b[0m\n",
      "\n",
      "\n",
      "\u001b[1mTEST CASE #8\u001b[0m\n",
      "\n",
      "Input:\n",
      "{'cards': [13, 11, 10, 7, 7, 4, 3, 1, 0], 'query': 7}\n",
      "\n",
      "Expected Output:\n",
      "3\n",
      "\n",
      "\n",
      "Actual Output:\n",
      "3\n",
      "\n",
      "Execution Time:\n",
      "0.001 ms\n",
      "\n",
      "Test Result:\n",
      "\u001b[92mPASSED\u001b[0m\n",
      "\n",
      "\n",
      "\u001b[1mSUMMARY\u001b[0m\n",
      "\n",
      "TOTAL: 9, \u001b[92mPASSED\u001b[0m: 9, \u001b[91mFAILED\u001b[0m: 0\n"
     ]
    },
    {
     "data": {
      "text/plain": [
       "[(3, True, 0.003),\n",
       " (6, True, 0.002),\n",
       " (0, True, 0.001),\n",
       " (3, True, 0.001),\n",
       " (0, True, 0.001),\n",
       " (-1, True, 0.002),\n",
       " (-1, True, 0.001),\n",
       " (4, True, 0.002),\n",
       " (3, True, 0.001)]"
      ]
     },
     "execution_count": 71,
     "metadata": {},
     "output_type": "execute_result"
    }
   ],
   "source": [
    "evaluate_test_cases(my_locate_card, tests)"
   ]
  },
  {
   "cell_type": "code",
   "execution_count": 72,
   "id": "e23b69b2-0e03-4f20-a0f8-d233e9442a10",
   "metadata": {},
   "outputs": [],
   "source": [
    "def locate_card(cards, query):\n",
    "  position = 0\n",
    "  \n",
    "  print('cards: ', cards)\n",
    "  print('query: ', query)\n",
    "  while True:\n",
    "    print('position:', position)\n",
    "    if cards[position] == query:\n",
    "      return position\n",
    "    position += 1\n",
    "    if position == len(cards):\n",
    "      return -1"
   ]
  },
  {
   "cell_type": "code",
   "execution_count": 73,
   "id": "be6b4cde-2459-4d88-89ad-b6270a3d5b6b",
   "metadata": {},
   "outputs": [
    {
     "name": "stdout",
     "output_type": "stream",
     "text": [
      "cards:  []\n",
      "query:  7\n",
      "position: 0\n"
     ]
    },
    {
     "ename": "IndexError",
     "evalue": "list index out of range",
     "output_type": "error",
     "traceback": [
      "\u001b[0;31m---------------------------------------------------------------------------\u001b[0m",
      "\u001b[0;31mIndexError\u001b[0m                                Traceback (most recent call last)",
      "Cell \u001b[0;32mIn[73], line 3\u001b[0m\n\u001b[1;32m      1\u001b[0m cards6 \u001b[38;5;241m=\u001b[39m tests[\u001b[38;5;241m6\u001b[39m][\u001b[38;5;124m'\u001b[39m\u001b[38;5;124minput\u001b[39m\u001b[38;5;124m'\u001b[39m][\u001b[38;5;124m'\u001b[39m\u001b[38;5;124mcards\u001b[39m\u001b[38;5;124m'\u001b[39m]\n\u001b[1;32m      2\u001b[0m query6 \u001b[38;5;241m=\u001b[39m tests[\u001b[38;5;241m6\u001b[39m][\u001b[38;5;124m'\u001b[39m\u001b[38;5;124minput\u001b[39m\u001b[38;5;124m'\u001b[39m][\u001b[38;5;124m'\u001b[39m\u001b[38;5;124mquery\u001b[39m\u001b[38;5;124m'\u001b[39m]\n\u001b[0;32m----> 3\u001b[0m \u001b[43mlocate_card\u001b[49m\u001b[43m(\u001b[49m\u001b[43mcards6\u001b[49m\u001b[43m,\u001b[49m\u001b[43m \u001b[49m\u001b[43mquery6\u001b[49m\u001b[43m)\u001b[49m\n",
      "Cell \u001b[0;32mIn[72], line 8\u001b[0m, in \u001b[0;36mlocate_card\u001b[0;34m(cards, query)\u001b[0m\n\u001b[1;32m      6\u001b[0m \u001b[38;5;28;01mwhile\u001b[39;00m \u001b[38;5;28;01mTrue\u001b[39;00m:\n\u001b[1;32m      7\u001b[0m   \u001b[38;5;28mprint\u001b[39m(\u001b[38;5;124m'\u001b[39m\u001b[38;5;124mposition:\u001b[39m\u001b[38;5;124m'\u001b[39m, position)\n\u001b[0;32m----> 8\u001b[0m   \u001b[38;5;28;01mif\u001b[39;00m \u001b[43mcards\u001b[49m\u001b[43m[\u001b[49m\u001b[43mposition\u001b[49m\u001b[43m]\u001b[49m \u001b[38;5;241m==\u001b[39m query:\n\u001b[1;32m      9\u001b[0m     \u001b[38;5;28;01mreturn\u001b[39;00m position\n\u001b[1;32m     10\u001b[0m   position \u001b[38;5;241m+\u001b[39m\u001b[38;5;241m=\u001b[39m \u001b[38;5;241m1\u001b[39m\n",
      "\u001b[0;31mIndexError\u001b[0m: list index out of range"
     ]
    }
   ],
   "source": [
    "cards6 = tests[6]['input']['cards']\n",
    "query6 = tests[6]['input']['query']\n",
    "locate_card(cards6, query6)\n"
   ]
  },
  {
   "cell_type": "code",
   "execution_count": 75,
   "id": "22f8fdc4-a2af-4c54-8e6a-919752606a01",
   "metadata": {},
   "outputs": [],
   "source": [
    "def locate_card(cards, query):\n",
    "  position = 0\n",
    "  while position < len(cards):\n",
    "    if cards[position] == query:\n",
    "      return position\n",
    "    position += 1\n",
    "  return -1"
   ]
  },
  {
   "cell_type": "code",
   "execution_count": 76,
   "id": "3606d935-49ba-4684-804b-8c4b0702300a",
   "metadata": {},
   "outputs": [
    {
     "data": {
      "text/plain": [
       "-1"
      ]
     },
     "execution_count": 76,
     "metadata": {},
     "output_type": "execute_result"
    }
   ],
   "source": [
    "cards6 = tests[6]['input']['cards']\n",
    "query6 = tests[6]['input']['query']\n",
    "locate_card(cards6, query6)"
   ]
  },
  {
   "cell_type": "code",
   "execution_count": null,
   "id": "38131780-6c58-426d-9eaa-29b30650af8b",
   "metadata": {},
   "outputs": [],
   "source": []
  }
 ],
 "metadata": {
  "kernelspec": {
   "display_name": "Python 3 (ipykernel)",
   "language": "python",
   "name": "python3"
  },
  "language_info": {
   "codemirror_mode": {
    "name": "ipython",
    "version": 3
   },
   "file_extension": ".py",
   "mimetype": "text/x-python",
   "name": "python",
   "nbconvert_exporter": "python",
   "pygments_lexer": "ipython3",
   "version": "3.10.8"
  }
 },
 "nbformat": 4,
 "nbformat_minor": 5
}
