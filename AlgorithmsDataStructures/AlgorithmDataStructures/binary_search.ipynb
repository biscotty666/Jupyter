{
 "cells": [
  {
   "cell_type": "markdown",
   "id": "b0357d0f-61a6-4071-8e08-d008e9f05e8e",
   "metadata": {},
   "source": [
    "# Binary Search and Complexity Analysis\n",
    "\n",
    "| [Video](https://www.youtube.com/watch?v=pkYVOmU3MgA) |\n",
    "[Website](https://jovian.ai/learn/data-structures-and-algorithms-in-python) |\n",
    "[Chapter](https://jovian.ai/aakashns/python-binary-search) |"
   ]
  },
  {
   "cell_type": "code",
   "execution_count": 1,
   "id": "f69f8717-68ff-425a-b554-4887de62b039",
   "metadata": {},
   "outputs": [],
   "source": [
    "import math"
   ]
  },
  {
   "cell_type": "markdown",
   "id": "72a28b54-19b5-4a9e-adf8-480461609cc2",
   "metadata": {
    "jp-MarkdownHeadingCollapsed": true,
    "tags": []
   },
   "source": [
    "## 1. State the problem clearly. Identify the input & output formats."
   ]
  },
  {
   "cell_type": "markdown",
   "id": "3bf43716-16ec-40c2-a184-83927d65f275",
   "metadata": {},
   "source": [
    "Problem signature"
   ]
  },
  {
   "cell_type": "code",
   "execution_count": 2,
   "id": "231fb774-e0f9-4139-ac44-14e8264f8ab1",
   "metadata": {},
   "outputs": [],
   "source": [
    "def locate_card(cards, query):\n",
    "  ...\n",
    "  # return position (index value)"
   ]
  },
  {
   "cell_type": "markdown",
   "id": "4bff7ed4-3da6-4ac4-a9a3-86591224c5c9",
   "metadata": {
    "tags": []
   },
   "source": [
    "## 2. Come up with some example inputs & outputs. Try to cover all edge cases."
   ]
  },
  {
   "cell_type": "code",
   "execution_count": 3,
   "id": "f01af65f-9bdb-4932-8e11-d0dcccc5153b",
   "metadata": {},
   "outputs": [],
   "source": [
    "cards = [13, 11, 10, 7, 4, 3, 1, 0]\n",
    "query = 7\n",
    "output = 3"
   ]
  },
  {
   "cell_type": "markdown",
   "id": "a6816928-ae3d-4617-bf2e-0962e9221563",
   "metadata": {},
   "source": [
    "Create test function"
   ]
  },
  {
   "cell_type": "code",
   "execution_count": 4,
   "id": "17a62ead-7b5e-4ce3-b326-c871265ebc28",
   "metadata": {},
   "outputs": [
    {
     "name": "stdout",
     "output_type": "stream",
     "text": [
      "None\n"
     ]
    }
   ],
   "source": [
    "result = locate_card(cards, query)\n",
    "print(result)"
   ]
  },
  {
   "cell_type": "markdown",
   "id": "b063821a-1cae-42e4-874a-c6d896e225d1",
   "metadata": {},
   "source": [
    "Create dictionary representations of tests"
   ]
  },
  {
   "cell_type": "code",
   "execution_count": 5,
   "id": "550ce1d3-5eb4-403e-bc28-049915f29bd9",
   "metadata": {},
   "outputs": [],
   "source": [
    "test = {\n",
    "  'input': {\n",
    "    'cards': [13, 11, 10, 7, 4, 3, 1, 0],\n",
    "    'query': 7\n",
    "  },\n",
    "  'output': 3\n",
    "}"
   ]
  },
  {
   "cell_type": "code",
   "execution_count": 6,
   "id": "4bf33d40-8a58-4e9f-a8a0-f2f019b0d24d",
   "metadata": {},
   "outputs": [
    {
     "data": {
      "text/plain": [
       "False"
      ]
     },
     "execution_count": 6,
     "metadata": {},
     "output_type": "execute_result"
    }
   ],
   "source": [
    "locate_card(**test['input']) == test['output']"
   ]
  },
  {
   "cell_type": "markdown",
   "id": "77cac10c-774e-4fc4-86c2-10c8a63c1f7e",
   "metadata": {},
   "source": [
    "Our function should be able to handle any set of valid inputs we pass into it. Here's a list of some possible variations we might encounter:\n",
    "\n",
    "1. The number `query` occurs somewhere in the middle of the list `cards`.\n",
    "2. `query` is the first element in `cards`.\n",
    "3. `query` is the last element in `cards`.\n",
    "4. The list `cards` contains just one element, which is `query`.\n",
    "5. The list `cards` does not contain number `query`.\n",
    "6. The list `cards` is empty.\n",
    "7. The list `cards` contains repeating numbers.\n",
    "8. The number `query` occurs at more than one position in `cards`.\n",
    "9. (can you think of any more variations?)"
   ]
  },
  {
   "cell_type": "code",
   "execution_count": 7,
   "id": "d26593cc-b0f7-4e95-b040-c41dbd2bb68d",
   "metadata": {},
   "outputs": [],
   "source": [
    "tests = []\n",
    "tests.append(test)\n",
    "\n",
    "tests.append({\n",
    "  'input': {\n",
    "    'cards': [13, 11, 10, 7, 4, 3, 1, 0],\n",
    "    'query': 1\n",
    "  },\n",
    "  'output': 6\n",
    "})\n",
    "tests.append({\n",
    "  'input': {\n",
    "    'cards': [4,2,1,-1],\n",
    "    'query': 4\n",
    "  },\n",
    "  'output': 0\n",
    "})\n",
    "tests.append({\n",
    "  'input': {\n",
    "    'cards': [13, -1, -9, -12],\n",
    "    'query': -12\n",
    "  },\n",
    "  'output': 3\n",
    "})\n",
    "tests.append({\n",
    "  'input': {\n",
    "    'cards': [7],\n",
    "    'query': 7\n",
    "  },\n",
    "  'output': 0\n",
    "})\n",
    "tests.append({\n",
    "  'input': {\n",
    "    'cards': [13, 11, 10, 7, 4, 3, 1, 0],\n",
    "    'query': 8\n",
    "  },\n",
    "  'output': -1 # What should we do if query does not exist in cards?\n",
    "})\n",
    "tests.append({\n",
    "  'input': {\n",
    "    'cards': [],\n",
    "    'query': 7\n",
    "  },\n",
    "  'output': -1 # What should we do if cards is empty (same as above?)?\n",
    "})\n",
    "tests.append({\n",
    "  'input': {\n",
    "    'cards': [13, 11, 11, 10, 7, 4, 3, 3, 1, 0],\n",
    "    'query': 7\n",
    "  },\n",
    "  'output': 4\n",
    "})\n",
    "tests.append({\n",
    "  'input': {\n",
    "    'cards': [13, 11, 10, 7, 7, 4, 3, 1, 0],\n",
    "    'query': 7\n",
    "  },\n",
    "  'output': 3 # Assume taking first one\n",
    "})"
   ]
  },
  {
   "cell_type": "code",
   "execution_count": 8,
   "id": "4b90ba07-df18-4aab-943a-ca6c9c95143e",
   "metadata": {},
   "outputs": [
    {
     "data": {
      "text/plain": [
       "[{'input': {'cards': [13, 11, 10, 7, 4, 3, 1, 0], 'query': 7}, 'output': 3},\n",
       " {'input': {'cards': [13, 11, 10, 7, 4, 3, 1, 0], 'query': 1}, 'output': 6},\n",
       " {'input': {'cards': [4, 2, 1, -1], 'query': 4}, 'output': 0},\n",
       " {'input': {'cards': [13, -1, -9, -12], 'query': -12}, 'output': 3},\n",
       " {'input': {'cards': [7], 'query': 7}, 'output': 0},\n",
       " {'input': {'cards': [13, 11, 10, 7, 4, 3, 1, 0], 'query': 8}, 'output': -1},\n",
       " {'input': {'cards': [], 'query': 7}, 'output': -1},\n",
       " {'input': {'cards': [13, 11, 11, 10, 7, 4, 3, 3, 1, 0], 'query': 7},\n",
       "  'output': 4},\n",
       " {'input': {'cards': [13, 11, 10, 7, 7, 4, 3, 1, 0], 'query': 7}, 'output': 3}]"
      ]
     },
     "execution_count": 8,
     "metadata": {},
     "output_type": "execute_result"
    }
   ],
   "source": [
    "tests"
   ]
  },
  {
   "cell_type": "markdown",
   "id": "290bef6a-fc30-4ad9-8917-665916a2ac7c",
   "metadata": {
    "jp-MarkdownHeadingCollapsed": true,
    "tags": []
   },
   "source": [
    "## 3. Come up with a correct solution for the problem. State it in plain English.\n",
    "\n",
    "Linear Search Algorithm/Brute force solution"
   ]
  },
  {
   "cell_type": "markdown",
   "id": "e54ef5f7-62c1-4d1c-a6b4-0cbfedfa3a39",
   "metadata": {},
   "source": [
    "1. create variable `position` with value 0\n",
    "2. check number at `position` in `cards` to see if it matches `query`\n",
    "3. if it does, return the `position`\n",
    "4. if not, increment `position` and go back to step 2\n",
    "5. return -1"
   ]
  },
  {
   "cell_type": "code",
   "execution_count": 9,
   "id": "05a48cf8-9e72-43f2-b0f7-229006023ebb",
   "metadata": {},
   "outputs": [],
   "source": [
    "def my_locate_card(cards, query):\n",
    "  position = 0\n",
    "  for card in cards:\n",
    "    if card == query:\n",
    "      return position\n",
    "    position += 1\n",
    "  return -1\n",
    "#### With a while loop instead\n",
    "def locate_card(cards, query):\n",
    "  position = 0\n",
    "  while True:\n",
    "    if cards[position] == query:\n",
    "      return position\n",
    "    position += 1\n",
    "    if position == len(cards):\n",
    "      return -1"
   ]
  },
  {
   "cell_type": "code",
   "execution_count": 10,
   "id": "4a059f65-ad76-4b75-84d1-da915a64473b",
   "metadata": {},
   "outputs": [
    {
     "data": {
      "text/plain": [
       "{'input': {'cards': [13, 11, 10, 7, 4, 3, 1, 0], 'query': 7}, 'output': 3}"
      ]
     },
     "execution_count": 10,
     "metadata": {},
     "output_type": "execute_result"
    }
   ],
   "source": [
    "test"
   ]
  },
  {
   "cell_type": "code",
   "execution_count": 11,
   "id": "48cac9d4-0679-4595-8082-3df4803c3579",
   "metadata": {},
   "outputs": [
    {
     "data": {
      "text/plain": [
       "True"
      ]
     },
     "execution_count": 11,
     "metadata": {},
     "output_type": "execute_result"
    }
   ],
   "source": [
    "result = my_locate_card(test['input']['cards'], test['input']['query'])\n",
    "result == test['output']"
   ]
  },
  {
   "cell_type": "code",
   "execution_count": 12,
   "id": "10f552ec-70ca-48ca-8898-c4c16cc4373b",
   "metadata": {},
   "outputs": [
    {
     "data": {
      "text/plain": [
       "True"
      ]
     },
     "execution_count": 12,
     "metadata": {},
     "output_type": "execute_result"
    }
   ],
   "source": [
    "result = locate_card(test['input']['cards'], test['input']['query'])\n",
    "result == test['output']"
   ]
  },
  {
   "cell_type": "markdown",
   "id": "11334416-3bcb-4c1f-bdbd-f9b4d365b177",
   "metadata": {},
   "source": [
    "To help you test your functions easily the `jovian` Python library provides a helper function `evalute_test_case`. Apart from checking whether the function produces the expected result, it also displays the input, expected output, actual output from the function, and the execution time of the function."
   ]
  },
  {
   "cell_type": "code",
   "execution_count": 13,
   "id": "e3ea2576-a0a2-4b3e-9622-75d8900d65be",
   "metadata": {},
   "outputs": [],
   "source": [
    "!pip install jovian --upgrade --quiet"
   ]
  },
  {
   "cell_type": "code",
   "execution_count": 14,
   "id": "843d4a9c-dfec-42ce-8471-8001a0e0c8ed",
   "metadata": {},
   "outputs": [
    {
     "data": {
      "application/javascript": [
       "if (window.IPython && IPython.notebook.kernel) IPython.notebook.kernel.execute('jovian.utils.jupyter.get_notebook_name_saved = lambda: \"' + IPython.notebook.notebook_name + '\"')"
      ],
      "text/plain": [
       "<IPython.core.display.Javascript object>"
      ]
     },
     "metadata": {},
     "output_type": "display_data"
    }
   ],
   "source": [
    "from jovian.pythondsa import evaluate_test_case"
   ]
  },
  {
   "cell_type": "code",
   "execution_count": 15,
   "id": "daf7d6de-c83b-4cd6-86bc-bef99fefc322",
   "metadata": {},
   "outputs": [
    {
     "name": "stdout",
     "output_type": "stream",
     "text": [
      "\n",
      "Input:\n",
      "{'cards': [13, 11, 10, 7, 4, 3, 1, 0], 'query': 7}\n",
      "\n",
      "Expected Output:\n",
      "3\n",
      "\n",
      "\n",
      "Actual Output:\n",
      "3\n",
      "\n",
      "Execution Time:\n",
      "0.005 ms\n",
      "\n",
      "Test Result:\n",
      "\u001b[92mPASSED\u001b[0m\n",
      "\n"
     ]
    },
    {
     "data": {
      "text/plain": [
       "(3, True, 0.005)"
      ]
     },
     "execution_count": 15,
     "metadata": {},
     "output_type": "execute_result"
    }
   ],
   "source": [
    "evaluate_test_case(locate_card, test)"
   ]
  },
  {
   "cell_type": "code",
   "execution_count": 16,
   "id": "564380f2-7270-4f60-9e3b-c0f29a55de72",
   "metadata": {},
   "outputs": [
    {
     "name": "stdout",
     "output_type": "stream",
     "text": [
      "\n",
      "Input:\n",
      "{'cards': [13, 11, 10, 7, 4, 3, 1, 0], 'query': 7}\n",
      "\n",
      "Expected Output:\n",
      "3\n",
      "\n",
      "\n",
      "Actual Output:\n",
      "3\n",
      "\n",
      "Execution Time:\n",
      "0.018 ms\n",
      "\n",
      "Test Result:\n",
      "\u001b[92mPASSED\u001b[0m\n",
      "\n"
     ]
    },
    {
     "data": {
      "text/plain": [
       "(3, True, 0.018)"
      ]
     },
     "execution_count": 16,
     "metadata": {},
     "output_type": "execute_result"
    }
   ],
   "source": [
    "evaluate_test_case(my_locate_card, test)"
   ]
  },
  {
   "cell_type": "code",
   "execution_count": 17,
   "id": "134dccbb-16a4-4016-94fa-9fb13cce9958",
   "metadata": {},
   "outputs": [],
   "source": [
    "from jovian.pythondsa import evaluate_test_cases"
   ]
  },
  {
   "cell_type": "code",
   "execution_count": 18,
   "id": "cb8ef4d9-c763-4e60-bea6-958d53938051",
   "metadata": {
    "scrolled": true,
    "tags": []
   },
   "outputs": [
    {
     "name": "stdout",
     "output_type": "stream",
     "text": [
      "\n",
      "\u001b[1mTEST CASE #0\u001b[0m\n",
      "\n",
      "Input:\n",
      "{'cards': [13, 11, 10, 7, 4, 3, 1, 0], 'query': 7}\n",
      "\n",
      "Expected Output:\n",
      "3\n",
      "\n",
      "\n",
      "Actual Output:\n",
      "3\n",
      "\n",
      "Execution Time:\n",
      "0.002 ms\n",
      "\n",
      "Test Result:\n",
      "\u001b[92mPASSED\u001b[0m\n",
      "\n",
      "\n",
      "\u001b[1mTEST CASE #1\u001b[0m\n",
      "\n",
      "Input:\n",
      "{'cards': [13, 11, 10, 7, 4, 3, 1, 0], 'query': 1}\n",
      "\n",
      "Expected Output:\n",
      "6\n",
      "\n",
      "\n",
      "Actual Output:\n",
      "6\n",
      "\n",
      "Execution Time:\n",
      "0.001 ms\n",
      "\n",
      "Test Result:\n",
      "\u001b[92mPASSED\u001b[0m\n",
      "\n",
      "\n",
      "\u001b[1mTEST CASE #2\u001b[0m\n",
      "\n",
      "Input:\n",
      "{'cards': [4, 2, 1, -1], 'query': 4}\n",
      "\n",
      "Expected Output:\n",
      "0\n",
      "\n",
      "\n",
      "Actual Output:\n",
      "0\n",
      "\n",
      "Execution Time:\n",
      "0.001 ms\n",
      "\n",
      "Test Result:\n",
      "\u001b[92mPASSED\u001b[0m\n",
      "\n",
      "\n",
      "\u001b[1mTEST CASE #3\u001b[0m\n",
      "\n",
      "Input:\n",
      "{'cards': [13, -1, -9, -12], 'query': -12}\n",
      "\n",
      "Expected Output:\n",
      "3\n",
      "\n",
      "\n",
      "Actual Output:\n",
      "3\n",
      "\n",
      "Execution Time:\n",
      "0.001 ms\n",
      "\n",
      "Test Result:\n",
      "\u001b[92mPASSED\u001b[0m\n",
      "\n",
      "\n",
      "\u001b[1mTEST CASE #4\u001b[0m\n",
      "\n",
      "Input:\n",
      "{'cards': [7], 'query': 7}\n",
      "\n",
      "Expected Output:\n",
      "0\n",
      "\n",
      "\n",
      "Actual Output:\n",
      "0\n",
      "\n",
      "Execution Time:\n",
      "0.001 ms\n",
      "\n",
      "Test Result:\n",
      "\u001b[92mPASSED\u001b[0m\n",
      "\n",
      "\n",
      "\u001b[1mTEST CASE #5\u001b[0m\n",
      "\n",
      "Input:\n",
      "{'cards': [13, 11, 10, 7, 4, 3, 1, 0], 'query': 8}\n",
      "\n",
      "Expected Output:\n",
      "-1\n",
      "\n",
      "\n",
      "Actual Output:\n",
      "-1\n",
      "\n",
      "Execution Time:\n",
      "0.001 ms\n",
      "\n",
      "Test Result:\n",
      "\u001b[92mPASSED\u001b[0m\n",
      "\n",
      "\n",
      "\u001b[1mTEST CASE #6\u001b[0m\n",
      "\n",
      "Input:\n",
      "{'cards': [], 'query': 7}\n",
      "\n",
      "Expected Output:\n",
      "-1\n",
      "\n",
      "\n",
      "Actual Output:\n",
      "-1\n",
      "\n",
      "Execution Time:\n",
      "0.001 ms\n",
      "\n",
      "Test Result:\n",
      "\u001b[92mPASSED\u001b[0m\n",
      "\n",
      "\n",
      "\u001b[1mTEST CASE #7\u001b[0m\n",
      "\n",
      "Input:\n",
      "{'cards': [13, 11, 11, 10, 7, 4, 3, 3, 1, 0], 'query': 7}\n",
      "\n",
      "Expected Output:\n",
      "4\n",
      "\n",
      "\n",
      "Actual Output:\n",
      "4\n",
      "\n",
      "Execution Time:\n",
      "0.001 ms\n",
      "\n",
      "Test Result:\n",
      "\u001b[92mPASSED\u001b[0m\n",
      "\n",
      "\n",
      "\u001b[1mTEST CASE #8\u001b[0m\n",
      "\n",
      "Input:\n",
      "{'cards': [13, 11, 10, 7, 7, 4, 3, 1, 0], 'query': 7}\n",
      "\n",
      "Expected Output:\n",
      "3\n",
      "\n",
      "\n",
      "Actual Output:\n",
      "3\n",
      "\n",
      "Execution Time:\n",
      "0.001 ms\n",
      "\n",
      "Test Result:\n",
      "\u001b[92mPASSED\u001b[0m\n",
      "\n",
      "\n",
      "\u001b[1mSUMMARY\u001b[0m\n",
      "\n",
      "TOTAL: 9, \u001b[92mPASSED\u001b[0m: 9, \u001b[91mFAILED\u001b[0m: 0\n"
     ]
    },
    {
     "data": {
      "text/plain": [
       "[(3, True, 0.002),\n",
       " (6, True, 0.001),\n",
       " (0, True, 0.001),\n",
       " (3, True, 0.001),\n",
       " (0, True, 0.001),\n",
       " (-1, True, 0.001),\n",
       " (-1, True, 0.001),\n",
       " (4, True, 0.001),\n",
       " (3, True, 0.001)]"
      ]
     },
     "execution_count": 18,
     "metadata": {},
     "output_type": "execute_result"
    }
   ],
   "source": [
    "evaluate_test_cases(my_locate_card, tests)"
   ]
  },
  {
   "cell_type": "code",
   "execution_count": 19,
   "id": "e23b69b2-0e03-4f20-a0f8-d233e9442a10",
   "metadata": {},
   "outputs": [],
   "source": [
    "def locate_card(cards, query):\n",
    "  position = 0\n",
    "  \n",
    "  print('cards: ', cards)\n",
    "  print('query: ', query)\n",
    "  while True:\n",
    "    print('position:', position)\n",
    "    if cards[position] == query:\n",
    "      return position\n",
    "    position += 1\n",
    "    if position == len(cards):\n",
    "      return -1"
   ]
  },
  {
   "cell_type": "code",
   "execution_count": 20,
   "id": "be6b4cde-2459-4d88-89ad-b6270a3d5b6b",
   "metadata": {},
   "outputs": [
    {
     "name": "stdout",
     "output_type": "stream",
     "text": [
      "cards:  []\n",
      "query:  7\n",
      "position: 0\n"
     ]
    },
    {
     "ename": "IndexError",
     "evalue": "list index out of range",
     "output_type": "error",
     "traceback": [
      "\u001b[0;31m---------------------------------------------------------------------------\u001b[0m",
      "\u001b[0;31mIndexError\u001b[0m                                Traceback (most recent call last)",
      "\u001b[0;32m/tmp/ipykernel_943480/353283224.py\u001b[0m in \u001b[0;36m<module>\u001b[0;34m\u001b[0m\n\u001b[1;32m      1\u001b[0m \u001b[0mcards6\u001b[0m \u001b[0;34m=\u001b[0m \u001b[0mtests\u001b[0m\u001b[0;34m[\u001b[0m\u001b[0;36m6\u001b[0m\u001b[0;34m]\u001b[0m\u001b[0;34m[\u001b[0m\u001b[0;34m'input'\u001b[0m\u001b[0;34m]\u001b[0m\u001b[0;34m[\u001b[0m\u001b[0;34m'cards'\u001b[0m\u001b[0;34m]\u001b[0m\u001b[0;34m\u001b[0m\u001b[0;34m\u001b[0m\u001b[0m\n\u001b[1;32m      2\u001b[0m \u001b[0mquery6\u001b[0m \u001b[0;34m=\u001b[0m \u001b[0mtests\u001b[0m\u001b[0;34m[\u001b[0m\u001b[0;36m6\u001b[0m\u001b[0;34m]\u001b[0m\u001b[0;34m[\u001b[0m\u001b[0;34m'input'\u001b[0m\u001b[0;34m]\u001b[0m\u001b[0;34m[\u001b[0m\u001b[0;34m'query'\u001b[0m\u001b[0;34m]\u001b[0m\u001b[0;34m\u001b[0m\u001b[0;34m\u001b[0m\u001b[0m\n\u001b[0;32m----> 3\u001b[0;31m \u001b[0mlocate_card\u001b[0m\u001b[0;34m(\u001b[0m\u001b[0mcards6\u001b[0m\u001b[0;34m,\u001b[0m \u001b[0mquery6\u001b[0m\u001b[0;34m)\u001b[0m\u001b[0;34m\u001b[0m\u001b[0;34m\u001b[0m\u001b[0m\n\u001b[0m",
      "\u001b[0;32m/tmp/ipykernel_943480/1445419988.py\u001b[0m in \u001b[0;36mlocate_card\u001b[0;34m(cards, query)\u001b[0m\n\u001b[1;32m      6\u001b[0m   \u001b[0;32mwhile\u001b[0m \u001b[0;32mTrue\u001b[0m\u001b[0;34m:\u001b[0m\u001b[0;34m\u001b[0m\u001b[0;34m\u001b[0m\u001b[0m\n\u001b[1;32m      7\u001b[0m     \u001b[0mprint\u001b[0m\u001b[0;34m(\u001b[0m\u001b[0;34m'position:'\u001b[0m\u001b[0;34m,\u001b[0m \u001b[0mposition\u001b[0m\u001b[0;34m)\u001b[0m\u001b[0;34m\u001b[0m\u001b[0;34m\u001b[0m\u001b[0m\n\u001b[0;32m----> 8\u001b[0;31m     \u001b[0;32mif\u001b[0m \u001b[0mcards\u001b[0m\u001b[0;34m[\u001b[0m\u001b[0mposition\u001b[0m\u001b[0;34m]\u001b[0m \u001b[0;34m==\u001b[0m \u001b[0mquery\u001b[0m\u001b[0;34m:\u001b[0m\u001b[0;34m\u001b[0m\u001b[0;34m\u001b[0m\u001b[0m\n\u001b[0m\u001b[1;32m      9\u001b[0m       \u001b[0;32mreturn\u001b[0m \u001b[0mposition\u001b[0m\u001b[0;34m\u001b[0m\u001b[0;34m\u001b[0m\u001b[0m\n\u001b[1;32m     10\u001b[0m     \u001b[0mposition\u001b[0m \u001b[0;34m+=\u001b[0m \u001b[0;36m1\u001b[0m\u001b[0;34m\u001b[0m\u001b[0;34m\u001b[0m\u001b[0m\n",
      "\u001b[0;31mIndexError\u001b[0m: list index out of range"
     ]
    }
   ],
   "source": [
    "cards6 = tests[6]['input']['cards']\n",
    "query6 = tests[6]['input']['query']\n",
    "locate_card(cards6, query6)\n"
   ]
  },
  {
   "cell_type": "code",
   "execution_count": 21,
   "id": "22f8fdc4-a2af-4c54-8e6a-919752606a01",
   "metadata": {},
   "outputs": [],
   "source": [
    "def locate_card(cards, query):\n",
    "  position = 0\n",
    "  while position < len(cards):\n",
    "    if cards[position] == query:\n",
    "      return position\n",
    "    position += 1\n",
    "  return -1"
   ]
  },
  {
   "cell_type": "code",
   "execution_count": 22,
   "id": "3606d935-49ba-4684-804b-8c4b0702300a",
   "metadata": {},
   "outputs": [
    {
     "data": {
      "text/plain": [
       "-1"
      ]
     },
     "execution_count": 22,
     "metadata": {},
     "output_type": "execute_result"
    }
   ],
   "source": [
    "cards6 = tests[6]['input']['cards']\n",
    "query6 = tests[6]['input']['query']\n",
    "locate_card(cards6, query6)"
   ]
  },
  {
   "cell_type": "code",
   "execution_count": 23,
   "id": "38131780-6c58-426d-9eaa-29b30650af8b",
   "metadata": {
    "scrolled": true,
    "tags": []
   },
   "outputs": [
    {
     "name": "stdout",
     "output_type": "stream",
     "text": [
      "\n",
      "\u001b[1mTEST CASE #0\u001b[0m\n",
      "\n",
      "Input:\n",
      "{'cards': [13, 11, 10, 7, 4, 3, 1, 0], 'query': 7}\n",
      "\n",
      "Expected Output:\n",
      "3\n",
      "\n",
      "\n",
      "Actual Output:\n",
      "3\n",
      "\n",
      "Execution Time:\n",
      "0.002 ms\n",
      "\n",
      "Test Result:\n",
      "\u001b[92mPASSED\u001b[0m\n",
      "\n",
      "\n",
      "\u001b[1mTEST CASE #1\u001b[0m\n",
      "\n",
      "Input:\n",
      "{'cards': [13, 11, 10, 7, 4, 3, 1, 0], 'query': 1}\n",
      "\n",
      "Expected Output:\n",
      "6\n",
      "\n",
      "\n",
      "Actual Output:\n",
      "6\n",
      "\n",
      "Execution Time:\n",
      "0.002 ms\n",
      "\n",
      "Test Result:\n",
      "\u001b[92mPASSED\u001b[0m\n",
      "\n",
      "\n",
      "\u001b[1mTEST CASE #2\u001b[0m\n",
      "\n",
      "Input:\n",
      "{'cards': [4, 2, 1, -1], 'query': 4}\n",
      "\n",
      "Expected Output:\n",
      "0\n",
      "\n",
      "\n",
      "Actual Output:\n",
      "0\n",
      "\n",
      "Execution Time:\n",
      "0.001 ms\n",
      "\n",
      "Test Result:\n",
      "\u001b[92mPASSED\u001b[0m\n",
      "\n",
      "\n",
      "\u001b[1mTEST CASE #3\u001b[0m\n",
      "\n",
      "Input:\n",
      "{'cards': [13, -1, -9, -12], 'query': -12}\n",
      "\n",
      "Expected Output:\n",
      "3\n",
      "\n",
      "\n",
      "Actual Output:\n",
      "3\n",
      "\n",
      "Execution Time:\n",
      "0.001 ms\n",
      "\n",
      "Test Result:\n",
      "\u001b[92mPASSED\u001b[0m\n",
      "\n",
      "\n",
      "\u001b[1mTEST CASE #4\u001b[0m\n",
      "\n",
      "Input:\n",
      "{'cards': [7], 'query': 7}\n",
      "\n",
      "Expected Output:\n",
      "0\n",
      "\n",
      "\n",
      "Actual Output:\n",
      "0\n",
      "\n",
      "Execution Time:\n",
      "0.001 ms\n",
      "\n",
      "Test Result:\n",
      "\u001b[92mPASSED\u001b[0m\n",
      "\n",
      "\n",
      "\u001b[1mTEST CASE #5\u001b[0m\n",
      "\n",
      "Input:\n",
      "{'cards': [13, 11, 10, 7, 4, 3, 1, 0], 'query': 8}\n",
      "\n",
      "Expected Output:\n",
      "-1\n",
      "\n",
      "\n",
      "Actual Output:\n",
      "-1\n",
      "\n",
      "Execution Time:\n",
      "0.002 ms\n",
      "\n",
      "Test Result:\n",
      "\u001b[92mPASSED\u001b[0m\n",
      "\n",
      "\n",
      "\u001b[1mTEST CASE #6\u001b[0m\n",
      "\n",
      "Input:\n",
      "{'cards': [], 'query': 7}\n",
      "\n",
      "Expected Output:\n",
      "-1\n",
      "\n",
      "\n",
      "Actual Output:\n",
      "-1\n",
      "\n",
      "Execution Time:\n",
      "0.001 ms\n",
      "\n",
      "Test Result:\n",
      "\u001b[92mPASSED\u001b[0m\n",
      "\n",
      "\n",
      "\u001b[1mTEST CASE #7\u001b[0m\n",
      "\n",
      "Input:\n",
      "{'cards': [13, 11, 11, 10, 7, 4, 3, 3, 1, 0], 'query': 7}\n",
      "\n",
      "Expected Output:\n",
      "4\n",
      "\n",
      "\n",
      "Actual Output:\n",
      "4\n",
      "\n",
      "Execution Time:\n",
      "0.001 ms\n",
      "\n",
      "Test Result:\n",
      "\u001b[92mPASSED\u001b[0m\n",
      "\n",
      "\n",
      "\u001b[1mTEST CASE #8\u001b[0m\n",
      "\n",
      "Input:\n",
      "{'cards': [13, 11, 10, 7, 7, 4, 3, 1, 0], 'query': 7}\n",
      "\n",
      "Expected Output:\n",
      "3\n",
      "\n",
      "\n",
      "Actual Output:\n",
      "3\n",
      "\n",
      "Execution Time:\n",
      "0.001 ms\n",
      "\n",
      "Test Result:\n",
      "\u001b[92mPASSED\u001b[0m\n",
      "\n",
      "\n",
      "\u001b[1mSUMMARY\u001b[0m\n",
      "\n",
      "TOTAL: 9, \u001b[92mPASSED\u001b[0m: 9, \u001b[91mFAILED\u001b[0m: 0\n"
     ]
    },
    {
     "data": {
      "text/plain": [
       "[(3, True, 0.002),\n",
       " (6, True, 0.002),\n",
       " (0, True, 0.001),\n",
       " (3, True, 0.001),\n",
       " (0, True, 0.001),\n",
       " (-1, True, 0.002),\n",
       " (-1, True, 0.001),\n",
       " (4, True, 0.001),\n",
       " (3, True, 0.001)]"
      ]
     },
     "execution_count": 23,
     "metadata": {},
     "output_type": "execute_result"
    }
   ],
   "source": [
    "evaluate_test_cases(locate_card, tests)"
   ]
  },
  {
   "cell_type": "markdown",
   "id": "2f09d15b-bea5-4507-b5d3-3b706b1d7b67",
   "metadata": {
    "tags": []
   },
   "source": [
    "## 5. Analyze the algorithm's complexity and identify inefficiencies, if any.\n",
    "\n",
    "The field of study concerned with finding the amount of time, space or other resources required to complete the execution of computer programs is called _the analysis of algorithms_. And the process of figuring out the best algorithm to solve a given problem is called _algorithm design and optimization_.\n",
    "\n",
    "#### Complexity and Big O Notation\n",
    "\n",
    "> **Complexity** of an algorithm is a measure of the amount of time and/or space required by an algorithm for an input of a given size e.g. `N`. Unless otherwise stated, the term _complexity_ always refers to the worst-case complexity (i.e. the highest possible time/space taken by the program/algorithm to process an input).\n",
    "\n",
    "In the case of linear search:\n",
    "\n",
    "1. The _time complexity_ of the algorithm is `cN` for some fixed constant `c` that depends on the number of operations we perform in each iteration and the time taken to execute a statement. Time complexity is sometimes also called the _running time_ of the algorithm.\n",
    "\n",
    "2. The _space complexity_ is some constant `c'` (independent of `N`), since we just need a single variable `position` to iterate through the array, and it occupies a constant space in the computer's memory (RAM).\n",
    "\n",
    "\n",
    "> **Big O Notation**: Worst-case complexity is often expressed using the Big O notation. In the Big O, we drop fixed constants and lower powers of variables to capture the trend of relationship between the size of the input and the complexity of the algorithm i.e. if the complexity of the algorithm is `cN^3 + dN^2 + eN + f`, in the Big O notation it is expressed as **O(N^3)**\n",
    "\n",
    "Thus, the time complexity of linear search is **O(N)** and its space complexity is **O(1)**."
   ]
  },
  {
   "cell_type": "code",
   "execution_count": 24,
   "id": "9565f9f7-e85c-4f84-ad27-17da89f3e9ee",
   "metadata": {},
   "outputs": [],
   "source": [
    "!pip install jovian --upgrade --quiet"
   ]
  },
  {
   "cell_type": "code",
   "execution_count": 25,
   "id": "f69b410b-57ff-4a1d-96fa-74683137e167",
   "metadata": {},
   "outputs": [],
   "source": [
    "import jovian"
   ]
  },
  {
   "cell_type": "code",
   "execution_count": 49,
   "id": "c9483245-b2ce-4930-af40-9e2b45f0372b",
   "metadata": {},
   "outputs": [
    {
     "data": {
      "application/javascript": [
       "window.require && require([\"base/js/namespace\"],function(Jupyter){Jupyter.notebook.save_checkpoint()})"
      ],
      "text/plain": [
       "<IPython.core.display.Javascript object>"
      ]
     },
     "metadata": {},
     "output_type": "display_data"
    },
    {
     "name": "stdout",
     "output_type": "stream",
     "text": [
      "[jovian] Please enter your API key ( from https://jovian.ai/ ):\u001b[0m\n",
      "API KEY:"
     ]
    },
    {
     "name": "stdin",
     "output_type": "stream",
     "text": [
      "  ········\n"
     ]
    },
    {
     "name": "stdout",
     "output_type": "stream",
     "text": [
      "[jovian] Updating notebook \"biscotty666/binary-search\" on https://jovian.ai/\u001b[0m\n",
      "[jovian] Committed successfully! https://jovian.ai/biscotty666/binary-search\u001b[0m\n"
     ]
    },
    {
     "data": {
      "text/plain": [
       "'https://jovian.ai/biscotty666/binary-search'"
      ]
     },
     "execution_count": 49,
     "metadata": {},
     "output_type": "execute_result"
    }
   ],
   "source": [
    "jovian.commit(project='binary_search', filename='binary_search',environment=None)"
   ]
  },
  {
   "cell_type": "markdown",
   "id": "a0722e6c-67a9-4767-a308-4a1da3963091",
   "metadata": {},
   "source": [
    "## 6. Apply the right technique to overcome the inefficiency. Repeat steps 3 to 6.\n"
   ]
  },
  {
   "cell_type": "markdown",
   "id": "d35746f8-c95d-4964-831f-97da5f8a9141",
   "metadata": {
    "tags": []
   },
   "source": [
    "#### Binary Search"
   ]
  },
  {
   "cell_type": "markdown",
   "id": "0ce6fcaf-a7f5-4188-97b9-b257c5bf1e1c",
   "metadata": {},
   "source": [
    "### 7. Come up with a correct solution for the problem. State it in plain English.\n",
    "\n",
    "Here's how binary search can be applied to our problem:\n",
    "\n",
    "1. Create a `position` variable\n",
    "2. Determine the midpoint of `cards` and assign to `position`\n",
    "3. Check `card` and `query`, if equal return `position`\n",
    "4. Check the `card` before `position`\n",
    "5. If `card` is greater than the prior `position`, recalculate position using the current position as the start\n",
    "6. If not, recalcluate with current position as end\n",
    "6. With the new `position`, go back to step 3\n",
    "7. Return -1 if no more elements\n"
   ]
  },
  {
   "cell_type": "code",
   "execution_count": 27,
   "id": "37418736-4c17-41e7-86db-bf4d5f270052",
   "metadata": {},
   "outputs": [],
   "source": [
    "def binary_search(cards, query):\n",
    "  lo, hi = 0, len(cards) - 1\n",
    "  \n",
    "  while lo <= hi:\n",
    "    mid = (lo + hi) // 2\n",
    "    mid_number = cards[mid]\n",
    "    \n",
    "    print(f\"lo: {lo}, hi: {hi}, mid: {mid}, mid_number: {mid_number}\")\n",
    "    if mid_number == query:\n",
    "      return mid\n",
    "    elif mid_number < query:\n",
    "      hi = mid - 1\n",
    "    elif mid_number > query:\n",
    "      lo = mid + 1\n",
    "  return -1\n",
    "  # position = len(cards) // 2\n",
    "  # while position >= 0 and position < len(cards):\n",
    "  #   if position == 0:\n",
    "  #     return 0\n",
    "  #   print(f\"cards: {cards}\\n position: {position}\\n query: {query}\\n cards[position]: {cards[position]}\")\n",
    "  #   if cards[position] == query:\n",
    "  #     return position\n",
    "  #   if cards[position] < query:\n",
    "  #     position = len(cards[:position]) // 2\n",
    "  #   else:\n",
    "  #     position = position + len(cards[position:]) // 2\n",
    "  #   print(position)\n",
    "  # return -1"
   ]
  },
  {
   "cell_type": "code",
   "execution_count": 28,
   "id": "eb4d6796-ee83-4e29-94a9-389dbe16e10a",
   "metadata": {},
   "outputs": [
    {
     "name": "stdout",
     "output_type": "stream",
     "text": [
      "lo: 0, hi: 4, mid: 2, mid_number: 3\n",
      "lo: 0, hi: 1, mid: 0, mid_number: 8\n"
     ]
    },
    {
     "data": {
      "text/plain": [
       "0"
      ]
     },
     "execution_count": 28,
     "metadata": {},
     "output_type": "execute_result"
    }
   ],
   "source": [
    "cards = [8,5,3,2,1]\n",
    "query = 8\n",
    "binary_search(cards,query)"
   ]
  },
  {
   "cell_type": "code",
   "execution_count": 29,
   "id": "fb97d061-7366-43b9-8803-338c5b1dc484",
   "metadata": {
    "scrolled": true,
    "tags": []
   },
   "outputs": [
    {
     "name": "stdout",
     "output_type": "stream",
     "text": [
      "\n",
      "\u001b[1mTEST CASE #0\u001b[0m\n",
      "lo: 0, hi: 7, mid: 3, mid_number: 7\n",
      "\n",
      "Input:\n",
      "{'cards': [13, 11, 10, 7, 4, 3, 1, 0], 'query': 7}\n",
      "\n",
      "Expected Output:\n",
      "3\n",
      "\n",
      "\n",
      "Actual Output:\n",
      "3\n",
      "\n",
      "Execution Time:\n",
      "0.008 ms\n",
      "\n",
      "Test Result:\n",
      "\u001b[92mPASSED\u001b[0m\n",
      "\n",
      "\n",
      "\u001b[1mTEST CASE #1\u001b[0m\n",
      "lo: 0, hi: 7, mid: 3, mid_number: 7\n",
      "lo: 4, hi: 7, mid: 5, mid_number: 3\n",
      "lo: 6, hi: 7, mid: 6, mid_number: 1\n",
      "\n",
      "Input:\n",
      "{'cards': [13, 11, 10, 7, 4, 3, 1, 0], 'query': 1}\n",
      "\n",
      "Expected Output:\n",
      "6\n",
      "\n",
      "\n",
      "Actual Output:\n",
      "6\n",
      "\n",
      "Execution Time:\n",
      "0.014 ms\n",
      "\n",
      "Test Result:\n",
      "\u001b[92mPASSED\u001b[0m\n",
      "\n",
      "\n",
      "\u001b[1mTEST CASE #2\u001b[0m\n",
      "lo: 0, hi: 3, mid: 1, mid_number: 2\n",
      "lo: 0, hi: 0, mid: 0, mid_number: 4\n",
      "\n",
      "Input:\n",
      "{'cards': [4, 2, 1, -1], 'query': 4}\n",
      "\n",
      "Expected Output:\n",
      "0\n",
      "\n",
      "\n",
      "Actual Output:\n",
      "0\n",
      "\n",
      "Execution Time:\n",
      "0.009 ms\n",
      "\n",
      "Test Result:\n",
      "\u001b[92mPASSED\u001b[0m\n",
      "\n",
      "\n",
      "\u001b[1mTEST CASE #3\u001b[0m\n",
      "lo: 0, hi: 3, mid: 1, mid_number: -1\n",
      "lo: 2, hi: 3, mid: 2, mid_number: -9\n",
      "lo: 3, hi: 3, mid: 3, mid_number: -12\n",
      "\n",
      "Input:\n",
      "{'cards': [13, -1, -9, -12], 'query': -12}\n",
      "\n",
      "Expected Output:\n",
      "3\n",
      "\n",
      "\n",
      "Actual Output:\n",
      "3\n",
      "\n",
      "Execution Time:\n",
      "0.013 ms\n",
      "\n",
      "Test Result:\n",
      "\u001b[92mPASSED\u001b[0m\n",
      "\n",
      "\n",
      "\u001b[1mTEST CASE #4\u001b[0m\n",
      "lo: 0, hi: 0, mid: 0, mid_number: 7\n",
      "\n",
      "Input:\n",
      "{'cards': [7], 'query': 7}\n",
      "\n",
      "Expected Output:\n",
      "0\n",
      "\n",
      "\n",
      "Actual Output:\n",
      "0\n",
      "\n",
      "Execution Time:\n",
      "0.005 ms\n",
      "\n",
      "Test Result:\n",
      "\u001b[92mPASSED\u001b[0m\n",
      "\n",
      "\n",
      "\u001b[1mTEST CASE #5\u001b[0m\n",
      "lo: 0, hi: 7, mid: 3, mid_number: 7\n",
      "lo: 0, hi: 2, mid: 1, mid_number: 11\n",
      "lo: 2, hi: 2, mid: 2, mid_number: 10\n",
      "\n",
      "Input:\n",
      "{'cards': [13, 11, 10, 7, 4, 3, 1, 0], 'query': 8}\n",
      "\n",
      "Expected Output:\n",
      "-1\n",
      "\n",
      "\n",
      "Actual Output:\n",
      "-1\n",
      "\n",
      "Execution Time:\n",
      "0.013 ms\n",
      "\n",
      "Test Result:\n",
      "\u001b[92mPASSED\u001b[0m\n",
      "\n",
      "\n",
      "\u001b[1mTEST CASE #6\u001b[0m\n",
      "\n",
      "Input:\n",
      "{'cards': [], 'query': 7}\n",
      "\n",
      "Expected Output:\n",
      "-1\n",
      "\n",
      "\n",
      "Actual Output:\n",
      "-1\n",
      "\n",
      "Execution Time:\n",
      "0.001 ms\n",
      "\n",
      "Test Result:\n",
      "\u001b[92mPASSED\u001b[0m\n",
      "\n",
      "\n",
      "\u001b[1mTEST CASE #7\u001b[0m\n",
      "lo: 0, hi: 9, mid: 4, mid_number: 7\n",
      "\n",
      "Input:\n",
      "{'cards': [13, 11, 11, 10, 7, 4, 3, 3, 1, 0], 'query': 7}\n",
      "\n",
      "Expected Output:\n",
      "4\n",
      "\n",
      "\n",
      "Actual Output:\n",
      "4\n",
      "\n",
      "Execution Time:\n",
      "0.005 ms\n",
      "\n",
      "Test Result:\n",
      "\u001b[92mPASSED\u001b[0m\n",
      "\n",
      "\n",
      "\u001b[1mTEST CASE #8\u001b[0m\n",
      "lo: 0, hi: 8, mid: 4, mid_number: 7\n",
      "\n",
      "Input:\n",
      "{'cards': [13, 11, 10, 7, 7, 4, 3, 1, 0], 'query': 7}\n",
      "\n",
      "Expected Output:\n",
      "3\n",
      "\n",
      "\n",
      "Actual Output:\n",
      "4\n",
      "\n",
      "Execution Time:\n",
      "0.005 ms\n",
      "\n",
      "Test Result:\n",
      "\u001b[91mFAILED\u001b[0m\n",
      "\n",
      "\n",
      "\u001b[1mSUMMARY\u001b[0m\n",
      "\n",
      "TOTAL: 9, \u001b[92mPASSED\u001b[0m: 8, \u001b[91mFAILED\u001b[0m: 1\n"
     ]
    },
    {
     "data": {
      "text/plain": [
       "[(3, True, 0.008),\n",
       " (6, True, 0.014),\n",
       " (0, True, 0.009),\n",
       " (3, True, 0.013),\n",
       " (0, True, 0.005),\n",
       " (-1, True, 0.013),\n",
       " (-1, True, 0.001),\n",
       " (4, True, 0.005),\n",
       " (4, False, 0.005)]"
      ]
     },
     "execution_count": 29,
     "metadata": {},
     "output_type": "execute_result"
    }
   ],
   "source": [
    "evaluate_test_cases(binary_search, tests)"
   ]
  },
  {
   "cell_type": "code",
   "execution_count": 32,
   "id": "b5e43512-45da-4788-a39f-2d8e2fe9c7d1",
   "metadata": {},
   "outputs": [
    {
     "name": "stdout",
     "output_type": "stream",
     "text": [
      "\n",
      "Input:\n",
      "{'cards': [13, 11, 10, 7, 7, 4, 3, 1, 0], 'query': 7}\n",
      "\n",
      "Expected Output:\n",
      "3\n",
      "\n",
      "\n",
      "Actual Output:\n",
      "3\n",
      "\n",
      "Execution Time:\n",
      "0.003 ms\n",
      "\n",
      "Test Result:\n",
      "\u001b[92mPASSED\u001b[0m\n",
      "\n"
     ]
    },
    {
     "data": {
      "text/plain": [
       "(3, True, 0.003)"
      ]
     },
     "execution_count": 32,
     "metadata": {},
     "output_type": "execute_result"
    }
   ],
   "source": [
    "evaluate_test_case(locate_card, tests[8])"
   ]
  },
  {
   "cell_type": "code",
   "execution_count": 33,
   "id": "19bc5fe7-b7db-48da-924e-6871563ff276",
   "metadata": {},
   "outputs": [],
   "source": [
    "cards8 = tests[8]['input']['cards']\n",
    "query8 = tests[8]['input']['cards']"
   ]
  },
  {
   "cell_type": "code",
   "execution_count": 34,
   "id": "20c817e4-8cdb-4560-ac37-81f7126a1516",
   "metadata": {},
   "outputs": [
    {
     "data": {
      "text/plain": [
       "1"
      ]
     },
     "execution_count": 34,
     "metadata": {},
     "output_type": "execute_result"
    }
   ],
   "source": [
    "query8[7]"
   ]
  },
  {
   "cell_type": "code",
   "execution_count": 39,
   "id": "58a565ca-a965-4b3d-a02f-6c21a387eab0",
   "metadata": {},
   "outputs": [],
   "source": [
    "def test_location(cards, query, mid):\n",
    "    mid_number = cards[mid]\n",
    "    if mid_number == query:\n",
    "        if mid-1 >= 0 and cards[mid-1] == query:\n",
    "            return 'left'\n",
    "        else:\n",
    "            return 'found'\n",
    "    elif mid_number < query:\n",
    "        return 'left'\n",
    "    else:\n",
    "        return 'right'\n",
    "\n",
    "def locate_card(cards, query):\n",
    "    lo, hi = 0, len(cards) - 1\n",
    "    \n",
    "    while lo <= hi:\n",
    "        mid = (lo + hi) // 2\n",
    "        result = test_location(cards, query, mid)\n",
    "        \n",
    "        if result == 'found':\n",
    "            return mid\n",
    "        elif result == 'left':\n",
    "            hi = mid - 1\n",
    "        elif result == 'right':\n",
    "            lo = mid + 1\n",
    "    return -1"
   ]
  },
  {
   "cell_type": "code",
   "execution_count": 40,
   "id": "4573daaa-36d2-4821-a460-e9b36c8dc405",
   "metadata": {},
   "outputs": [
    {
     "name": "stdout",
     "output_type": "stream",
     "text": [
      "\n",
      "Input:\n",
      "{'cards': [13, 11, 10, 7, 7, 4, 3, 1, 0], 'query': 7}\n",
      "\n",
      "Expected Output:\n",
      "3\n",
      "\n",
      "\n",
      "Actual Output:\n",
      "3\n",
      "\n",
      "Execution Time:\n",
      "0.013 ms\n",
      "\n",
      "Test Result:\n",
      "\u001b[92mPASSED\u001b[0m\n",
      "\n"
     ]
    },
    {
     "data": {
      "text/plain": [
       "(3, True, 0.013)"
      ]
     },
     "execution_count": 40,
     "metadata": {},
     "output_type": "execute_result"
    }
   ],
   "source": [
    "evaluate_test_case(locate_card, tests[8])"
   ]
  },
  {
   "cell_type": "code",
   "execution_count": 41,
   "id": "d7fc615e-7da2-44d7-8226-9c0e1cd52d2c",
   "metadata": {
    "scrolled": true,
    "tags": []
   },
   "outputs": [
    {
     "name": "stdout",
     "output_type": "stream",
     "text": [
      "\n",
      "\u001b[1mTEST CASE #0\u001b[0m\n",
      "\n",
      "Input:\n",
      "{'cards': [13, 11, 10, 7, 4, 3, 1, 0], 'query': 7}\n",
      "\n",
      "Expected Output:\n",
      "3\n",
      "\n",
      "\n",
      "Actual Output:\n",
      "3\n",
      "\n",
      "Execution Time:\n",
      "0.003 ms\n",
      "\n",
      "Test Result:\n",
      "\u001b[92mPASSED\u001b[0m\n",
      "\n",
      "\n",
      "\u001b[1mTEST CASE #1\u001b[0m\n",
      "\n",
      "Input:\n",
      "{'cards': [13, 11, 10, 7, 4, 3, 1, 0], 'query': 1}\n",
      "\n",
      "Expected Output:\n",
      "6\n",
      "\n",
      "\n",
      "Actual Output:\n",
      "6\n",
      "\n",
      "Execution Time:\n",
      "0.003 ms\n",
      "\n",
      "Test Result:\n",
      "\u001b[92mPASSED\u001b[0m\n",
      "\n",
      "\n",
      "\u001b[1mTEST CASE #2\u001b[0m\n",
      "\n",
      "Input:\n",
      "{'cards': [4, 2, 1, -1], 'query': 4}\n",
      "\n",
      "Expected Output:\n",
      "0\n",
      "\n",
      "\n",
      "Actual Output:\n",
      "0\n",
      "\n",
      "Execution Time:\n",
      "0.002 ms\n",
      "\n",
      "Test Result:\n",
      "\u001b[92mPASSED\u001b[0m\n",
      "\n",
      "\n",
      "\u001b[1mTEST CASE #3\u001b[0m\n",
      "\n",
      "Input:\n",
      "{'cards': [13, -1, -9, -12], 'query': -12}\n",
      "\n",
      "Expected Output:\n",
      "3\n",
      "\n",
      "\n",
      "Actual Output:\n",
      "3\n",
      "\n",
      "Execution Time:\n",
      "0.003 ms\n",
      "\n",
      "Test Result:\n",
      "\u001b[92mPASSED\u001b[0m\n",
      "\n",
      "\n",
      "\u001b[1mTEST CASE #4\u001b[0m\n",
      "\n",
      "Input:\n",
      "{'cards': [7], 'query': 7}\n",
      "\n",
      "Expected Output:\n",
      "0\n",
      "\n",
      "\n",
      "Actual Output:\n",
      "0\n",
      "\n",
      "Execution Time:\n",
      "0.001 ms\n",
      "\n",
      "Test Result:\n",
      "\u001b[92mPASSED\u001b[0m\n",
      "\n",
      "\n",
      "\u001b[1mTEST CASE #5\u001b[0m\n",
      "\n",
      "Input:\n",
      "{'cards': [13, 11, 10, 7, 4, 3, 1, 0], 'query': 8}\n",
      "\n",
      "Expected Output:\n",
      "-1\n",
      "\n",
      "\n",
      "Actual Output:\n",
      "-1\n",
      "\n",
      "Execution Time:\n",
      "0.002 ms\n",
      "\n",
      "Test Result:\n",
      "\u001b[92mPASSED\u001b[0m\n",
      "\n",
      "\n",
      "\u001b[1mTEST CASE #6\u001b[0m\n",
      "\n",
      "Input:\n",
      "{'cards': [], 'query': 7}\n",
      "\n",
      "Expected Output:\n",
      "-1\n",
      "\n",
      "\n",
      "Actual Output:\n",
      "-1\n",
      "\n",
      "Execution Time:\n",
      "0.001 ms\n",
      "\n",
      "Test Result:\n",
      "\u001b[92mPASSED\u001b[0m\n",
      "\n",
      "\n",
      "\u001b[1mTEST CASE #7\u001b[0m\n",
      "\n",
      "Input:\n",
      "{'cards': [13, 11, 11, 10, 7, 4, 3, 3, 1, 0], 'query': 7}\n",
      "\n",
      "Expected Output:\n",
      "4\n",
      "\n",
      "\n",
      "Actual Output:\n",
      "4\n",
      "\n",
      "Execution Time:\n",
      "0.001 ms\n",
      "\n",
      "Test Result:\n",
      "\u001b[92mPASSED\u001b[0m\n",
      "\n",
      "\n",
      "\u001b[1mTEST CASE #8\u001b[0m\n",
      "\n",
      "Input:\n",
      "{'cards': [13, 11, 10, 7, 7, 4, 3, 1, 0], 'query': 7}\n",
      "\n",
      "Expected Output:\n",
      "3\n",
      "\n",
      "\n",
      "Actual Output:\n",
      "3\n",
      "\n",
      "Execution Time:\n",
      "0.002 ms\n",
      "\n",
      "Test Result:\n",
      "\u001b[92mPASSED\u001b[0m\n",
      "\n",
      "\n",
      "\u001b[1mSUMMARY\u001b[0m\n",
      "\n",
      "TOTAL: 9, \u001b[92mPASSED\u001b[0m: 9, \u001b[91mFAILED\u001b[0m: 0\n"
     ]
    },
    {
     "data": {
      "text/plain": [
       "[(3, True, 0.003),\n",
       " (6, True, 0.003),\n",
       " (0, True, 0.002),\n",
       " (3, True, 0.003),\n",
       " (0, True, 0.001),\n",
       " (-1, True, 0.002),\n",
       " (-1, True, 0.001),\n",
       " (4, True, 0.001),\n",
       " (3, True, 0.002)]"
      ]
     },
     "execution_count": 41,
     "metadata": {},
     "output_type": "execute_result"
    }
   ],
   "source": [
    "evaluate_test_cases(locate_card, tests)"
   ]
  },
  {
   "cell_type": "code",
   "execution_count": 51,
   "id": "6847bfc0-6146-4e7a-ab45-3a06a5ce30b2",
   "metadata": {},
   "outputs": [
    {
     "data": {
      "application/javascript": [
       "window.require && require([\"base/js/namespace\"],function(Jupyter){Jupyter.notebook.save_checkpoint()})"
      ],
      "text/plain": [
       "<IPython.core.display.Javascript object>"
      ]
     },
     "metadata": {},
     "output_type": "display_data"
    },
    {
     "name": "stdout",
     "output_type": "stream",
     "text": [
      "[jovian] Updating notebook \"biscotty666/binary-search\" on https://jovian.ai/\u001b[0m\n",
      "[jovian] Committed successfully! https://jovian.ai/biscotty666/binary-search\u001b[0m\n"
     ]
    },
    {
     "data": {
      "text/plain": [
       "'https://jovian.ai/biscotty666/binary-search'"
      ]
     },
     "execution_count": 51,
     "metadata": {},
     "output_type": "execute_result"
    }
   ],
   "source": [
    "jovian.commit(project='binary_search', filename='binary_search',environment=None)"
   ]
  },
  {
   "cell_type": "markdown",
   "id": "866e12f8-ebf9-4999-9735-7bdcc1957a54",
   "metadata": {},
   "source": [
    "### 9. Analyze the algorithm's complexity and identify inefficiencies, if any.\n",
    "\n",
    "Count number of iterations. In this case the array reduces to half with each iteration\n",
    "\n",
    "```\n",
    "Initial length - N\n",
    "It1 - N/2\n",
    "It2 - N/2^2\n",
    "It3 - N/2^3\n",
    "Itk = N/2^k\n",
    "```\n",
    "\n",
    "The final array length is 1 so\n",
    "```\n",
    "N/2^k = 1\n",
    "N = 2^k\n",
    "k = log N ## base 2\n",
    "```\n",
    "\n",
    "Therefore time complexity is **O(log n)**\n",
    "Space complexity is **O(1)**"
   ]
  },
  {
   "cell_type": "code",
   "execution_count": 52,
   "id": "3725e7b3-6f99-4645-9e74-f91fe32c8baa",
   "metadata": {},
   "outputs": [],
   "source": [
    "def locate_card_linear(cards, query):\n",
    "  position = 0\n",
    "  while position < len(cards):\n",
    "    if cards[position] == query:\n",
    "      return position\n",
    "    position += 1\n",
    "  return -1"
   ]
  },
  {
   "cell_type": "code",
   "execution_count": 54,
   "id": "a66b8691-82e1-4572-b98b-a26593e708f3",
   "metadata": {},
   "outputs": [],
   "source": [
    "large_test = {\n",
    "  'input': {\n",
    "    'cards': list(range(10000000, 0, -1)),\n",
    "    'query': 2\n",
    "  },\n",
    "  'output': 9999998\n",
    "}"
   ]
  },
  {
   "cell_type": "code",
   "execution_count": 55,
   "id": "a0334b8d-3e80-41b3-926f-6e77eb91fd0f",
   "metadata": {},
   "outputs": [
    {
     "name": "stdout",
     "output_type": "stream",
     "text": [
      "Result: 9999998\n",
      "Passed: True\n",
      "Execution Time: 679.734 ms\n"
     ]
    }
   ],
   "source": [
    "result, passed, runtime = evaluate_test_case(locate_card_linear, large_test, display=False)\n",
    "\n",
    "print(\"Result: {}\\nPassed: {}\\nExecution Time: {} ms\".format(result, passed, runtime))"
   ]
  },
  {
   "cell_type": "code",
   "execution_count": 56,
   "id": "8d017ef1-4c7e-4f2d-ba31-1bd308bf0d02",
   "metadata": {},
   "outputs": [
    {
     "name": "stdout",
     "output_type": "stream",
     "text": [
      "Result: 9999998\n",
      "Passed: True\n",
      "Execution Time: 0.014 ms\n"
     ]
    }
   ],
   "source": [
    "result, passed, runtime = evaluate_test_case(locate_card, large_test, display=False)\n",
    "\n",
    "print(\"Result: {}\\nPassed: {}\\nExecution Time: {} ms\".format(result, passed, runtime))"
   ]
  },
  {
   "cell_type": "markdown",
   "id": "ec33ff8b-7f15-4248-8c59-e547e5bb66b6",
   "metadata": {},
   "source": [
    "The binary search version is over 55,000 times faster than the linear search version. \n",
    "\n",
    "Furthermore, as the size of the input grows larger, the difference only gets bigger. For a list 10 times, the size, linear search would run for 10 times longer, whereas binary search would only require 3 additional operations! (can you verify this?) That's the real difference between the complexities **O(N)** and **O(log N)**.\n",
    "\n",
    "Another way to look at it is that binary search runs  `c * N / log N` times faster than linear search, for some fixed constant `c`. Since `log N` grows very slowly compared to `N`, the difference gets larger with the size of the input. Here's a graph showing how the comparing common functions for running time of algorithms ([source](https://dev.to/b0nbon1/understanding-big-o-notation-with-javascript-25mc)):\n",
    "\n",
    "<img src=\"https://res.cloudinary.com/practicaldev/image/fetch/s--NR3M1nw8--/c_limit%2Cf_auto%2Cfl_progressive%2Cq_auto%2Cw_880/https://thepracticaldev.s3.amazonaws.com/i/z4bbf8o1ly77wmkjdgge.png\" width=\"480\">\n",
    "\n",
    "Accessing array elements are constant time **O(1)**\n",
    "Binary search is **O(log n)** time\n",
    "Linear search is **O(n)**"
   ]
  },
  {
   "cell_type": "markdown",
   "id": "a3132e00-0a3a-4fc6-9a30-c217b887a1d4",
   "metadata": {
    "tags": []
   },
   "source": [
    "## Generic Binary Search\n",
    "\n",
    "1. Come up with a condition to determine whether the answer lies before, after or at a given position\n",
    "1. Retrieve the midpoint and the middle element of the list.\n",
    "2. If it is the answer, return the middle position as the answer.\n",
    "3. If answer lies before it, repeat the search with the first half of the list\n",
    "4. If the answer lies after it, repeat the search with the second half of the list."
   ]
  },
  {
   "cell_type": "code",
   "execution_count": 57,
   "id": "1b7dbd36-029a-4db2-b1da-6000397c2934",
   "metadata": {},
   "outputs": [],
   "source": [
    "def binary_search(lo, hi, condition):\n",
    "    \"\"\"TODO - add docs\"\"\"\n",
    "    while lo <= hi:\n",
    "        mid = (lo + hi) // 2\n",
    "        result = condition(mid)\n",
    "        if result == 'found':\n",
    "            return mid\n",
    "        elif result == 'left':\n",
    "            hi = mid - 1\n",
    "        else:\n",
    "            lo = mid + 1\n",
    "    return -1"
   ]
  },
  {
   "cell_type": "code",
   "execution_count": 58,
   "id": "723e13ec-3eb9-469b-8eb1-ea58714d2304",
   "metadata": {},
   "outputs": [],
   "source": [
    "def locate_card(cards, query):\n",
    "    \n",
    "    def condition(mid):\n",
    "        if cards[mid] == query:\n",
    "            if mid > 0 and cards[mid-1] == query:\n",
    "                return 'left'\n",
    "            else:\n",
    "                return 'found'\n",
    "        elif cards[mid] < query:\n",
    "            return 'left'\n",
    "        else:\n",
    "            return 'right'\n",
    "    \n",
    "    return binary_search(0, len(cards) - 1, condition)"
   ]
  },
  {
   "cell_type": "code",
   "execution_count": 59,
   "id": "e88bf3f6-97ad-494f-8d27-ff6048b5422b",
   "metadata": {
    "scrolled": true,
    "tags": []
   },
   "outputs": [
    {
     "name": "stdout",
     "output_type": "stream",
     "text": [
      "\n",
      "\u001b[1mTEST CASE #0\u001b[0m\n",
      "\n",
      "Input:\n",
      "{'cards': [13, 11, 10, 7, 4, 3, 1, 0], 'query': 7}\n",
      "\n",
      "Expected Output:\n",
      "3\n",
      "\n",
      "\n",
      "Actual Output:\n",
      "3\n",
      "\n",
      "Execution Time:\n",
      "0.009 ms\n",
      "\n",
      "Test Result:\n",
      "\u001b[92mPASSED\u001b[0m\n",
      "\n",
      "\n",
      "\u001b[1mTEST CASE #1\u001b[0m\n",
      "\n",
      "Input:\n",
      "{'cards': [13, 11, 10, 7, 4, 3, 1, 0], 'query': 1}\n",
      "\n",
      "Expected Output:\n",
      "6\n",
      "\n",
      "\n",
      "Actual Output:\n",
      "6\n",
      "\n",
      "Execution Time:\n",
      "0.192 ms\n",
      "\n",
      "Test Result:\n",
      "\u001b[92mPASSED\u001b[0m\n",
      "\n",
      "\n",
      "\u001b[1mTEST CASE #2\u001b[0m\n",
      "\n",
      "Input:\n",
      "{'cards': [4, 2, 1, -1], 'query': 4}\n",
      "\n",
      "Expected Output:\n",
      "0\n",
      "\n",
      "\n",
      "Actual Output:\n",
      "0\n",
      "\n",
      "Execution Time:\n",
      "0.005 ms\n",
      "\n",
      "Test Result:\n",
      "\u001b[92mPASSED\u001b[0m\n",
      "\n",
      "\n",
      "\u001b[1mTEST CASE #3\u001b[0m\n",
      "\n",
      "Input:\n",
      "{'cards': [13, -1, -9, -12], 'query': -12}\n",
      "\n",
      "Expected Output:\n",
      "3\n",
      "\n",
      "\n",
      "Actual Output:\n",
      "3\n",
      "\n",
      "Execution Time:\n",
      "0.005 ms\n",
      "\n",
      "Test Result:\n",
      "\u001b[92mPASSED\u001b[0m\n",
      "\n",
      "\n",
      "\u001b[1mTEST CASE #4\u001b[0m\n",
      "\n",
      "Input:\n",
      "{'cards': [7], 'query': 7}\n",
      "\n",
      "Expected Output:\n",
      "0\n",
      "\n",
      "\n",
      "Actual Output:\n",
      "0\n",
      "\n",
      "Execution Time:\n",
      "0.003 ms\n",
      "\n",
      "Test Result:\n",
      "\u001b[92mPASSED\u001b[0m\n",
      "\n",
      "\n",
      "\u001b[1mTEST CASE #5\u001b[0m\n",
      "\n",
      "Input:\n",
      "{'cards': [13, 11, 10, 7, 4, 3, 1, 0], 'query': 8}\n",
      "\n",
      "Expected Output:\n",
      "-1\n",
      "\n",
      "\n",
      "Actual Output:\n",
      "-1\n",
      "\n",
      "Execution Time:\n",
      "0.004 ms\n",
      "\n",
      "Test Result:\n",
      "\u001b[92mPASSED\u001b[0m\n",
      "\n",
      "\n",
      "\u001b[1mTEST CASE #6\u001b[0m\n",
      "\n",
      "Input:\n",
      "{'cards': [], 'query': 7}\n",
      "\n",
      "Expected Output:\n",
      "-1\n",
      "\n",
      "\n",
      "Actual Output:\n",
      "-1\n",
      "\n",
      "Execution Time:\n",
      "0.002 ms\n",
      "\n",
      "Test Result:\n",
      "\u001b[92mPASSED\u001b[0m\n",
      "\n",
      "\n",
      "\u001b[1mTEST CASE #7\u001b[0m\n",
      "\n",
      "Input:\n",
      "{'cards': [13, 11, 11, 10, 7, 4, 3, 3, 1, 0], 'query': 7}\n",
      "\n",
      "Expected Output:\n",
      "4\n",
      "\n",
      "\n",
      "Actual Output:\n",
      "4\n",
      "\n",
      "Execution Time:\n",
      "0.003 ms\n",
      "\n",
      "Test Result:\n",
      "\u001b[92mPASSED\u001b[0m\n",
      "\n",
      "\n",
      "\u001b[1mTEST CASE #8\u001b[0m\n",
      "\n",
      "Input:\n",
      "{'cards': [13, 11, 10, 7, 7, 4, 3, 1, 0], 'query': 7}\n",
      "\n",
      "Expected Output:\n",
      "3\n",
      "\n",
      "\n",
      "Actual Output:\n",
      "3\n",
      "\n",
      "Execution Time:\n",
      "0.005 ms\n",
      "\n",
      "Test Result:\n",
      "\u001b[92mPASSED\u001b[0m\n",
      "\n",
      "\n",
      "\u001b[1mSUMMARY\u001b[0m\n",
      "\n",
      "TOTAL: 9, \u001b[92mPASSED\u001b[0m: 9, \u001b[91mFAILED\u001b[0m: 0\n"
     ]
    },
    {
     "data": {
      "text/plain": [
       "[(3, True, 0.009),\n",
       " (6, True, 0.192),\n",
       " (0, True, 0.005),\n",
       " (3, True, 0.005),\n",
       " (0, True, 0.003),\n",
       " (-1, True, 0.004),\n",
       " (-1, True, 0.002),\n",
       " (4, True, 0.003),\n",
       " (3, True, 0.005)]"
      ]
     },
     "execution_count": 59,
     "metadata": {},
     "output_type": "execute_result"
    }
   ],
   "source": [
    "evaluate_test_cases(locate_card, tests)"
   ]
  },
  {
   "cell_type": "markdown",
   "id": "eed4af42-7d5c-45c6-8961-1efbe9d386a4",
   "metadata": {},
   "source": [
    "The `binary_search` function can now be used to solve other problems too. It is a tested piece of logic.\n",
    "\n",
    "\n",
    "> **Question**: Given an array of integers nums sorted in ascending order, find the starting and ending position of a given number. \n",
    "\n",
    "This differs from the problem in only two significant ways:\n",
    "\n",
    "1. The numbers are sorted in increasing order.\n",
    "2. We are looking for both the increasing order and the decreasing order.\n",
    "\n",
    "Here's the full code for solving the question, obtained by making minor modifications to our previous function:"
   ]
  },
  {
   "cell_type": "code",
   "execution_count": 60,
   "id": "7443f6d7-f40d-4c9d-b859-784d55f9ec4a",
   "metadata": {},
   "outputs": [],
   "source": [
    "def first_position(nums, target):\n",
    "    def condition(mid):\n",
    "        if nums[mid] == target:\n",
    "            if mid > 0 and nums[mid-1] == target:\n",
    "                return 'left'\n",
    "            return 'found'\n",
    "        elif nums[mid] < target:\n",
    "            return 'right'\n",
    "        else:\n",
    "            return 'left'\n",
    "    return binary_search(0, len(nums)-1, condition)\n",
    "\n",
    "def last_position(nums, target):\n",
    "    def condition(mid):\n",
    "        if nums[mid] == target:\n",
    "            if mid < len(nums)-1 and nums[mid+1] == target:\n",
    "                return 'right'\n",
    "            return 'found'\n",
    "        elif nums[mid] < target:\n",
    "            return 'right'\n",
    "        else:\n",
    "            return 'left'\n",
    "    return binary_search(0, len(nums)-1, condition)\n",
    "\n",
    "def first_and_last_position(nums, target):\n",
    "    return first_position(nums, target), last_position(nums, target)"
   ]
  },
  {
   "cell_type": "markdown",
   "id": "43861e8e-5f04-4f5a-98ec-9cc399bb5732",
   "metadata": {
    "tags": []
   },
   "source": [
    "## The Method - Revisited\n",
    "\n",
    "Here's a systematic strategy we've applied for solving the problem:\n",
    "\n",
    "State the problem clearly. Identify the input & output formats.\n",
    "Come up with some example inputs & outputs. Try to cover all edge cases.\n",
    "Come up with a correct solution for the problem. State it in plain English.\n",
    "Implement the solution and test it using example inputs. Fix bugs, if any.\n",
    "Analyze the algorithm's complexity and identify inefficiencies, if any.\n",
    "Apply the right technique to overcome the inefficiency. Repeat steps 3 to 6."
   ]
  },
  {
   "cell_type": "code",
   "execution_count": 61,
   "id": "5eb14efd-e217-4dc2-9355-4d05c8eca849",
   "metadata": {},
   "outputs": [
    {
     "data": {
      "application/javascript": [
       "window.require && require([\"base/js/namespace\"],function(Jupyter){Jupyter.notebook.save_checkpoint()})"
      ],
      "text/plain": [
       "<IPython.core.display.Javascript object>"
      ]
     },
     "metadata": {},
     "output_type": "display_data"
    },
    {
     "name": "stdout",
     "output_type": "stream",
     "text": [
      "[jovian] Updating notebook \"biscotty666/binary-search\" on https://jovian.ai/\u001b[0m\n",
      "[jovian] Committed successfully! https://jovian.ai/biscotty666/binary-search\u001b[0m\n"
     ]
    },
    {
     "data": {
      "text/plain": [
       "'https://jovian.ai/biscotty666/binary-search'"
      ]
     },
     "execution_count": 61,
     "metadata": {},
     "output_type": "execute_result"
    }
   ],
   "source": [
    "jovian.commit(project='binary_search', filename='binary_search',environment=None)"
   ]
  },
  {
   "cell_type": "code",
   "execution_count": null,
   "id": "ad9bd21e-601d-47dc-bdd2-082370d12192",
   "metadata": {},
   "outputs": [],
   "source": []
  }
 ],
 "metadata": {
  "kernelspec": {
   "display_name": "Python 3 (ipykernel)",
   "language": "python",
   "name": "python3"
  },
  "language_info": {
   "codemirror_mode": {
    "name": "ipython",
    "version": 3
   },
   "file_extension": ".py",
   "mimetype": "text/x-python",
   "name": "python",
   "nbconvert_exporter": "python",
   "pygments_lexer": "ipython3",
   "version": "3.9.13"
  }
 },
 "nbformat": 4,
 "nbformat_minor": 5
}
