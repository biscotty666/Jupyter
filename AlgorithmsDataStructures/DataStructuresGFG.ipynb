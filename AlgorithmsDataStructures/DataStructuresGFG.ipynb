{
 "cells": [
  {
   "cell_type": "markdown",
   "id": "ae049af4-20be-4897-921f-ba20cbd4afa4",
   "metadata": {},
   "source": [
    "# Data Structure\n",
    "\n",
    "[geeksforgeeks](https://www.geeksforgeeks.org/learn-data-structures-and-algorithms-dsa-tutorial/?ref=shm)"
   ]
  },
  {
   "cell_type": "markdown",
   "id": "efb8ba14-ae3b-4693-8844-5003a17f32dc",
   "metadata": {},
   "source": [
    "## Matrix"
   ]
  },
  {
   "cell_type": "markdown",
   "id": "9cbdf57b-dd92-4835-8491-540118428105",
   "metadata": {},
   "source": [
    "## Basic Operations"
   ]
  },
  {
   "cell_type": "markdown",
   "id": "db05de2c-bcb1-4d8f-bf1c-d1f7a17f1acd",
   "metadata": {},
   "source": [
    "**Row-wise and column-wise traversals**\n",
    "\n",
    "Row Major Order or Column Major Order"
   ]
  },
  {
   "cell_type": "code",
   "execution_count": 1,
   "id": "33102577-33a4-4a85-a116-b4a566d07e9a",
   "metadata": {},
   "outputs": [
    {
     "name": "stdout",
     "output_type": "stream",
     "text": [
      "Row major access time :0.06 s\n",
      "Column major access time :0.08 s\n"
     ]
    }
   ],
   "source": [
    "# Python3 program showing time difference\n",
    "# in row major and column major access\n",
    "\n",
    "# taking MAX 10000 so that time difference\n",
    "# can be shown\n",
    "from time import process_time\n",
    "MAX = 1000\n",
    "\n",
    "arr = [[0 for i in range(MAX)] for i in range(MAX)]\n",
    "\n",
    "\n",
    "def rowMajor():\n",
    "\tglobal arr\n",
    "\n",
    "\t# accessing element row wise\n",
    "\tfor i in range(MAX):\n",
    "\t\tfor j in range(MAX):\n",
    "\t\t\tarr[i][j] += 1\n",
    "\n",
    "\n",
    "def colMajor():\n",
    "\tglobal arr\n",
    "\n",
    "\t# accessing element column wise\n",
    "\tfor i in range(MAX):\n",
    "\t\tfor j in range(MAX):\n",
    "\t\t\tarr[j][i] += 1\n",
    "\n",
    "\n",
    "# Driver code\n",
    "if __name__ == '__main__':\n",
    "\n",
    "\t# Time taken by row major order\n",
    "\tt = process_time()\n",
    "\trowMajor()\n",
    "\tt = process_time() - t\n",
    "\tprint(\"Row major access time :{:.2f} s\".format(t))\n",
    "\n",
    "\t# Time taken by column major order\n",
    "\tt = process_time()\n",
    "\tcolMajor()\n",
    "\tt = process_time() - t\n",
    "\tprint(\"Column major access time :{:.2f} s\".format(t))\n",
    "\n",
    "# This code is contributed by mohit kumar 29\n"
   ]
  },
  {
   "cell_type": "markdown",
   "id": "1440fd21-9dc6-439c-adde-5ba48e54e565",
   "metadata": {},
   "source": [
    "**Addition**\n",
    "\n",
    "<img src=\"https://media.geeksforgeeks.org/wp-content/cdn-uploads/1-33.png\" />\n"
   ]
  },
  {
   "cell_type": "code",
   "execution_count": 34,
   "id": "fb373074-1e91-4526-a55b-862e359ab263",
   "metadata": {},
   "outputs": [],
   "source": [
    "a = [[1, 2], [4,5]]\n",
    "b = [[5,6], [8,9]]\n",
    "c = a[:][:]"
   ]
  },
  {
   "cell_type": "code",
   "execution_count": 35,
   "id": "0152a6da-5443-4995-aee4-6b6c9c69035a",
   "metadata": {},
   "outputs": [],
   "source": [
    "for i in range(2):\n",
    "  for j in range(2):\n",
    "    c[i][j] = a[i][j] + b[i][j]"
   ]
  },
  {
   "cell_type": "code",
   "execution_count": 36,
   "id": "e7b64635-4d4a-4c55-90b3-db3887605fd7",
   "metadata": {},
   "outputs": [
    {
     "data": {
      "text/plain": [
       "[[6, 8], [12, 14]]"
      ]
     },
     "execution_count": 36,
     "metadata": {},
     "output_type": "execute_result"
    }
   ],
   "source": [
    "c"
   ]
  },
  {
   "cell_type": "markdown",
   "id": "e0930c7d-7d98-4d41-bd0a-a5d7ed80e5ce",
   "metadata": {},
   "source": [
    "**Subtraction**"
   ]
  },
  {
   "cell_type": "code",
   "execution_count": null,
   "id": "7e7456f3-0e4a-4622-a348-3efad32b60cf",
   "metadata": {},
   "outputs": [],
   "source": []
  }
 ],
 "metadata": {
  "kernelspec": {
   "display_name": "Python 3 (ipykernel)",
   "language": "python",
   "name": "python3"
  },
  "language_info": {
   "codemirror_mode": {
    "name": "ipython",
    "version": 3
   },
   "file_extension": ".py",
   "mimetype": "text/x-python",
   "name": "python",
   "nbconvert_exporter": "python",
   "pygments_lexer": "ipython3",
   "version": "3.9.13"
  }
 },
 "nbformat": 4,
 "nbformat_minor": 5
}
