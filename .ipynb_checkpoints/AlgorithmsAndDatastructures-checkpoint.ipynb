{
 "cells": [
  {
   "cell_type": "markdown",
   "id": "94110394-5a3a-4bd2-950d-5830fe865fbc",
   "metadata": {},
   "source": [
    "# Algorithms and Data Structures\n",
    "\n",
    "https://www.youtube.com/watch?v=8hly31xKli0"
   ]
  },
  {
   "cell_type": "markdown",
   "id": "ee86eb11-7225-4f70-987c-9e5989d9bd7e",
   "metadata": {},
   "source": [
    "## Linear search"
   ]
  },
  {
   "cell_type": "code",
   "execution_count": 10,
   "id": "60937e8f-0baa-4335-a5d8-c32afc1861f4",
   "metadata": {},
   "outputs": [
    {
     "name": "stdout",
     "output_type": "stream",
     "text": [
      "0\n"
     ]
    }
   ],
   "source": [
    "def linear_search(list, target):\n",
    "  for i in range(0,len(list)):\n",
    "    if i == target:\n",
    "       return i\n",
    "\n",
    "\n",
    "numbers = [1,2,3,4,5,6,7,8]\n",
    "target = 1\n",
    "result = linear_search(numbers, target-1)\n",
    "print(result)\n",
    "\n"
   ]
  },
  {
   "cell_type": "code",
   "execution_count": null,
   "id": "0cc24741-8a42-4c38-bd17-93b7845311f2",
   "metadata": {},
   "outputs": [],
   "source": []
  }
 ],
 "metadata": {
  "kernelspec": {
   "display_name": "Python 3 (ipykernel)",
   "language": "python",
   "name": "python3"
  },
  "language_info": {
   "codemirror_mode": {
    "name": "ipython",
    "version": 3
   },
   "file_extension": ".py",
   "mimetype": "text/x-python",
   "name": "python",
   "nbconvert_exporter": "python",
   "pygments_lexer": "ipython3",
   "version": "3.10.8"
  }
 },
 "nbformat": 4,
 "nbformat_minor": 5
}
