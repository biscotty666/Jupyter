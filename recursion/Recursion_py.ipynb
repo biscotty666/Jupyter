{
 "cells": [
  {
   "cell_type": "markdown",
   "id": "f19898e8-4873-45d9-9ed7-287b7130ea78",
   "metadata": {},
   "source": [
    "Sum numbers from 0 to n"
   ]
  },
  {
   "cell_type": "markdown",
   "id": "bc98aab5-c8fc-4d95-884d-089e05a1af33",
   "metadata": {},
   "source": [
    "1. What's the simplest possible input? \n",
    "    Base Case: sum(0)\n",
    "2. Play around with examples and visualize\n",
    "3. Relate hard cases to simpler cases\n",
    "    sum(4) = sum(3) + 4\n",
    "4. Generalize problem    sum(k) = sum(k-1) + k"
   ]
  },
  {
   "cell_type": "code",
   "execution_count": 10,
   "id": "e31c5e30-073d-4ab5-af46-87623d136b5b",
   "metadata": {},
   "outputs": [],
   "source": [
    "def sum(n):\n",
    "  if n == 0:\n",
    "    return 0\n",
    "  else:\n",
    "    return n + sum(n-1)\n"
   ]
  },
  {
   "cell_type": "code",
   "execution_count": 11,
   "id": "ea47c206-8f78-410c-9e89-098edc439edd",
   "metadata": {},
   "outputs": [
    {
     "data": {
      "text/plain": [
       "6"
      ]
     },
     "execution_count": 11,
     "metadata": {},
     "output_type": "execute_result"
    }
   ],
   "source": [
    "sum(3)"
   ]
  },
  {
   "cell_type": "markdown",
   "id": "69991a02-a3a8-4b6a-80a8-99a158625199",
   "metadata": {},
   "source": [
    "Write a function that takes two inputs n and m and outputs the number of unique paths from the top left corner to the bottom right corner of a n x m grid by only moving down or right 1 unit"
   ]
  },
  {
   "cell_type": "code",
   "execution_count": 43,
   "id": "2c392077-28f0-440c-8fdb-03fea2cd835f",
   "metadata": {},
   "outputs": [],
   "source": [
    "def fib_rec(pos):\n",
    "  if pos < 2:\n",
    "    print(pos)\n",
    "    return pos\n",
    "  return fib_rec(pos - 1) + fib_rec(pos - 2)"
   ]
  },
  {
   "cell_type": "code",
   "execution_count": 44,
   "id": "8315fea0-c542-4c1c-b877-a0fbff69861a",
   "metadata": {},
   "outputs": [
    {
     "name": "stdout",
     "output_type": "stream",
     "text": [
      "1\n",
      "1\n",
      "------\n",
      "1\n",
      "0\n",
      "1\n",
      "------\n",
      "1\n",
      "0\n",
      "1\n",
      "2\n",
      "------\n",
      "1\n",
      "0\n",
      "1\n",
      "1\n",
      "0\n",
      "3\n",
      "------\n",
      "1\n",
      "0\n",
      "1\n",
      "1\n",
      "0\n",
      "1\n",
      "0\n",
      "1\n",
      "5\n",
      "------\n",
      "1\n",
      "0\n",
      "1\n",
      "1\n",
      "0\n",
      "1\n",
      "0\n",
      "1\n",
      "1\n",
      "0\n",
      "1\n",
      "1\n",
      "0\n",
      "8\n"
     ]
    }
   ],
   "source": [
    "print(fib_rec(1))\n",
    "print('------')\n",
    "print(fib_rec(2))\n",
    "print('------')\n",
    "print(fib_rec(3))\n",
    "print('------')\n",
    "print(fib_rec(4))\n",
    "print('------')\n",
    "print(fib_rec(5))\n",
    "print('------')\n",
    "print(fib_rec(6))"
   ]
  },
  {
   "cell_type": "code",
   "execution_count": 45,
   "id": "efad8b20-54e1-4804-aca7-4f0b1eb3e341",
   "metadata": {},
   "outputs": [],
   "source": [
    "def is_palindrome(word):\n",
    "  if len(word) <=1:\n",
    "    return 'True'\n",
    "  elif word[0] != word[-1]:\n",
    "    return 'False'\n",
    "  return is_palindrome(word[1:-1])"
   ]
  },
  {
   "cell_type": "code",
   "execution_count": 48,
   "id": "e3698c77-b767-4bd4-9de6-5c447a4a7d76",
   "metadata": {},
   "outputs": [
    {
     "data": {
      "text/plain": [
       "'True'"
      ]
     },
     "execution_count": 48,
     "metadata": {},
     "output_type": "execute_result"
    }
   ],
   "source": [
    "is_palindrome('wordrow')"
   ]
  },
  {
   "cell_type": "code",
   "execution_count": 122,
   "id": "6d01abab-4812-4ea0-82a0-509d0c40e529",
   "metadata": {},
   "outputs": [],
   "source": [
    "def bs_rec(query, array, last = 0):\n",
    "  if len(array) == 0:\n",
    "    return False\n",
    "  elif len(array) == 0:\n",
    "    return 0\n",
    "  first, last = 0, len(array)-1\n",
    "  pos = (last - first) // 2\n",
    "  if array[pos] == query:\n",
    "    return pos\n",
    "  else:\n",
    "    if array[pos-1] > query:\n",
    "      print(pos)\n",
    "      print(array[pos:])\n",
    "      last = pos\n",
    "      pos = len(array[pos:]) // 2\n",
    "      return bs_rec(query, array)\n",
    "    else:\n",
    "      print(pos)\n",
    "      print(array[:pos])\n",
    "      pos = pos + len(array[:pos])\n",
    "      return bs_rec(query, array)\n",
    "  return False"
   ]
  },
  {
   "cell_type": "code",
   "execution_count": 123,
   "id": "2b758f0c-5361-46fb-8585-675d313c9e95",
   "metadata": {},
   "outputs": [],
   "source": [
    "# array = [1,3,5,7,8,9]\n",
    "# bs_rec(8, array)"
   ]
  },
  {
   "cell_type": "code",
   "execution_count": 138,
   "id": "b85b7b9b-f9d1-428e-8a20-c00710373367",
   "metadata": {},
   "outputs": [],
   "source": [
    "def binary_search_rec(list, target, left, right):\n",
    "    \n",
    "    if left == right:\n",
    "      return -1\n",
    "    midpoint = (left + right)//2\n",
    "    if list[midpoint] == target:\n",
    "        return midpoint\n",
    "    elif list[midpoint] < target:\n",
    "        return binary_search_rec(list, target, midpoint + 1, right)\n",
    "    else:\n",
    "        return binary_search_rec(list, target, left, midpoint - 1)\n"
   ]
  },
  {
   "cell_type": "code",
   "execution_count": 139,
   "id": "35a8f986-6faa-4cb0-b91f-6750b9239e81",
   "metadata": {},
   "outputs": [
    {
     "data": {
      "text/plain": [
       "-1"
      ]
     },
     "execution_count": 139,
     "metadata": {},
     "output_type": "execute_result"
    }
   ],
   "source": [
    "list = [1,3,5,7,9]\n",
    "binary_search_rec(list, 8, 0, 4)"
   ]
  },
  {
   "cell_type": "code",
   "execution_count": null,
   "id": "5b1914c5-98ed-4d46-a208-61a6fe13903b",
   "metadata": {},
   "outputs": [],
   "source": []
  }
 ],
 "metadata": {
  "kernelspec": {
   "display_name": "Python 3 (ipykernel)",
   "language": "python",
   "name": "python3"
  },
  "language_info": {
   "codemirror_mode": {
    "name": "ipython",
    "version": 3
   },
   "file_extension": ".py",
   "mimetype": "text/x-python",
   "name": "python",
   "nbconvert_exporter": "python",
   "pygments_lexer": "ipython3",
   "version": "3.9.13"
  }
 },
 "nbformat": 4,
 "nbformat_minor": 5
}
