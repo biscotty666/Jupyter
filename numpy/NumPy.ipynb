{
 "cells": [
  {
   "cell_type": "markdown",
   "id": "4a144560-523b-45fd-a7c7-ca11455e781f",
   "metadata": {},
   "source": [
    "# NumPy\n",
    "\n",
    "[Python NumPy Tutorial](https://www.youtube.com/watch?v=QUT1VHiLmmI)\n",
    "\n",
    "[NumPy](https://numpy.org/doc/stable/reference/index.html)"
   ]
  },
  {
   "cell_type": "markdown",
   "id": "be483765-d46f-4ce8-9c94-c842f7d89243",
   "metadata": {
    "jp-MarkdownHeadingCollapsed": true,
    "tags": []
   },
   "source": [
    "## Basics"
   ]
  },
  {
   "cell_type": "code",
   "execution_count": 1,
   "id": "b94215c4-4d22-4939-aa08-689e26716247",
   "metadata": {},
   "outputs": [],
   "source": [
    "import numpy as np\n",
    "import sys"
   ]
  },
  {
   "cell_type": "markdown",
   "id": "c673a1c3-c8c7-45c1-b03a-0983557955ed",
   "metadata": {},
   "source": [
    "**Create arrays**"
   ]
  },
  {
   "cell_type": "code",
   "execution_count": 34,
   "id": "0d3b522c-1d86-434f-b20f-3001fbebbd16",
   "metadata": {},
   "outputs": [
    {
     "name": "stdout",
     "output_type": "stream",
     "text": [
      "[1 2 3]\n",
      "[[1. 2. 3.]\n",
      " [4. 5. 6.]]\n"
     ]
    }
   ],
   "source": [
    "a = np.array([1,2,3], dtype='int16') # dtype defaults to int64\n",
    "b = np.array([[1.0,2.0,3.0],[4.0,5.0,6.0]])\n",
    "print(a)\n",
    "print(b)"
   ]
  },
  {
   "cell_type": "markdown",
   "id": "48ae9fc1-b84e-436f-8e25-9ecda5268761",
   "metadata": {},
   "source": [
    "**Array information**\n",
    "- dimension (number of nesting levels)\n",
    "- shape (number of rows and columns)\n",
    "- type (data type of elements)\n",
    "- size (total number of elements)\n",
    "- itemsize (number of bytes occupied by each element)\n",
    "- nbytes (total number of bytes for the array)\n"
   ]
  },
  {
   "cell_type": "code",
   "execution_count": 36,
   "id": "1060d85b-acd3-4db8-b149-095d2be7ea90",
   "metadata": {},
   "outputs": [
    {
     "name": "stdout",
     "output_type": "stream",
     "text": [
      "Dimensions (a): 1 | Dimensions (b): 2\n",
      "Type (a): int16 | Type (b): float64\n",
      "Size (a): 3 | (b): 6\n",
      "Shape (a): (3,) | (b): (2, 3)\n",
      "Item Size (a): 2 | (b): 8\n",
      "Total bytes (a): 6 | (b): 48\n"
     ]
    }
   ],
   "source": [
    "print(f\"Dimensions (a): {a.ndim} | Dimensions (b): {b.ndim}\")\n",
    "print(f\"Type (a): {a.dtype} | Type (b): {b.dtype}\")\n",
    "print(f\"Size (a): {a.size} | (b): {b.size}\")\n",
    "print(f\"Shape (a): {a.shape} | (b): {b.shape}\")\n",
    "print(f\"Item Size (a): {a.itemsize} | (b): {b.itemsize}\")\n",
    "print(f\"Total bytes (a): {a.nbytes} | (b): {b.nbytes}\")"
   ]
  },
  {
   "cell_type": "markdown",
   "id": "470484bd-c26e-4142-85e2-59752fb4d6dc",
   "metadata": {},
   "source": [
    "**Accessing/Changing specific elements, rows, columns, etc**"
   ]
  },
  {
   "cell_type": "code",
   "execution_count": 42,
   "id": "899d0c42-f731-4260-ad1a-6c13ecd1b046",
   "metadata": {},
   "outputs": [],
   "source": [
    "a = np.array([[1,2,3,4,5,6,7],[8,1,10,11,12,13,14]]) # zero based indexing"
   ]
  },
  {
   "cell_type": "markdown",
   "id": "abe5a581-f7fb-4c9f-af3b-facb4c0d3d59",
   "metadata": {},
   "source": [
    "*Specific Element*"
   ]
  },
  {
   "cell_type": "code",
   "execution_count": 44,
   "id": "9e090e2e-dc5c-475e-a399-d97d5ce9621c",
   "metadata": {},
   "outputs": [
    {
     "name": "stdout",
     "output_type": "stream",
     "text": [
      "11\n",
      "6\n"
     ]
    }
   ],
   "source": [
    "print(a[1,3])\n",
    "print(a[0,-2])"
   ]
  },
  {
   "cell_type": "markdown",
   "id": "7ba49159-8c69-4d83-bce8-dddf8ef61f71",
   "metadata": {},
   "source": [
    "*Specific Row or Column*"
   ]
  },
  {
   "cell_type": "code",
   "execution_count": 49,
   "id": "f387ad24-8a2e-4cf7-8640-ed362a9c7050",
   "metadata": {},
   "outputs": [
    {
     "name": "stdout",
     "output_type": "stream",
     "text": [
      "[1 2 3 4 5 6 7]\n",
      "[ 3 10]\n"
     ]
    }
   ],
   "source": [
    "print(a[0,:])\n",
    "print(a[:,2])"
   ]
  },
  {
   "cell_type": "markdown",
   "id": "0ddfe18f-f464-4ecd-b30a-bd540aa002f0",
   "metadata": {},
   "source": [
    "*Select with `[startindex:endindex:step]`*"
   ]
  },
  {
   "cell_type": "code",
   "execution_count": 50,
   "id": "980e5a73-0c9f-4e4b-941a-4f167db9be89",
   "metadata": {},
   "outputs": [
    {
     "data": {
      "text/plain": [
       "array([2, 4, 6])"
      ]
     },
     "execution_count": 50,
     "metadata": {},
     "output_type": "execute_result"
    }
   ],
   "source": [
    "a[0,1:6:2]"
   ]
  },
  {
   "cell_type": "markdown",
   "id": "72769062-bf2f-44ee-8720-73e3b4038a80",
   "metadata": {},
   "source": [
    "*Change data*"
   ]
  },
  {
   "cell_type": "code",
   "execution_count": 52,
   "id": "d1b2a9f2-e663-4447-9962-4e248d8c093b",
   "metadata": {},
   "outputs": [
    {
     "name": "stdout",
     "output_type": "stream",
     "text": [
      "[[ 1  2  3  4  5  6  7]\n",
      " [ 8  1 10 11 12 20 14]]\n"
     ]
    }
   ],
   "source": [
    "a[1,5] = 20\n",
    "print(a)"
   ]
  },
  {
   "cell_type": "code",
   "execution_count": 54,
   "id": "57dc58bc-7f39-4dfc-8590-c683c24b04d3",
   "metadata": {},
   "outputs": [
    {
     "name": "stdout",
     "output_type": "stream",
     "text": [
      "[[ 1  2 33  4  5  6  7]\n",
      " [ 8  1 33 11 12 20 14]]\n"
     ]
    }
   ],
   "source": [
    "a[:,2] = 33\n",
    "print(a)"
   ]
  },
  {
   "cell_type": "code",
   "execution_count": 55,
   "id": "52d3ea07-6080-4320-91cb-b3fa6be3f541",
   "metadata": {},
   "outputs": [
    {
     "name": "stdout",
     "output_type": "stream",
     "text": [
      "[[ 1  2 51  4  5  6  7]\n",
      " [ 8  1 52 11 12 20 14]]\n"
     ]
    }
   ],
   "source": [
    "a[:,2] = [51,52]\n",
    "print(a)"
   ]
  },
  {
   "cell_type": "markdown",
   "id": "4a63ca78-9461-4072-8a64-d701dad02e03",
   "metadata": {},
   "source": [
    "*3d Example*"
   ]
  },
  {
   "cell_type": "code",
   "execution_count": 69,
   "id": "cd59c141-8c0b-44f9-80ec-4e8c8e6d47ca",
   "metadata": {},
   "outputs": [
    {
     "name": "stdout",
     "output_type": "stream",
     "text": [
      "[[[1 2]\n",
      "  [3 4]]\n",
      "\n",
      " [[5 6]\n",
      "  [7 8]]]\n"
     ]
    }
   ],
   "source": [
    "b = np.array([[[1,2],[3,4]],[[5,6],[7,8]]])\n",
    "print(b)"
   ]
  },
  {
   "cell_type": "code",
   "execution_count": 70,
   "id": "ce1aaccc-9d1a-4bd6-a3df-1ad8d9a240a5",
   "metadata": {},
   "outputs": [
    {
     "data": {
      "text/plain": [
       "4"
      ]
     },
     "execution_count": 70,
     "metadata": {},
     "output_type": "execute_result"
    }
   ],
   "source": [
    "b[0,1,1] # order outside in)"
   ]
  },
  {
   "cell_type": "code",
   "execution_count": 71,
   "id": "332c5892-80f0-49ca-865a-c2dd6cdc1097",
   "metadata": {},
   "outputs": [
    {
     "name": "stdout",
     "output_type": "stream",
     "text": [
      "[[3 4]\n",
      " [7 8]]\n"
     ]
    }
   ],
   "source": [
    "print(b[:,1,:])\n",
    "\n"
   ]
  },
  {
   "cell_type": "code",
   "execution_count": 72,
   "id": "9f60bd43-eccb-4cc5-896a-d59370adda95",
   "metadata": {},
   "outputs": [
    {
     "data": {
      "text/plain": [
       "array([[[1, 2],\n",
       "        [9, 9]],\n",
       "\n",
       "       [[5, 6],\n",
       "        [8, 8]]])"
      ]
     },
     "execution_count": 72,
     "metadata": {},
     "output_type": "execute_result"
    }
   ],
   "source": [
    "b[:,1,:] = [[9,9],[8,8]]\n",
    "b"
   ]
  },
  {
   "cell_type": "markdown",
   "id": "84fafb2b-8d7e-4e5b-a82a-309f479486e2",
   "metadata": {},
   "source": [
    "**Initializing Different Types of Arrays**\n",
    "- zeros\n",
    "- ones\n",
    "- full (specify a number for all elements)\n",
    "- full_like (use an already existing array shape)\n",
    "- random.rand\n",
    "- random.randint\n",
    "- random.random_sample (assigns random numbers to existing array shape)\n",
    "- identity"
   ]
  },
  {
   "cell_type": "code",
   "execution_count": 73,
   "id": "d7e2e43a-3d4f-48fe-b554-b833d39757fc",
   "metadata": {},
   "outputs": [
    {
     "data": {
      "text/plain": [
       "array([[0., 0., 0.],\n",
       "       [0., 0., 0.]])"
      ]
     },
     "execution_count": 73,
     "metadata": {},
     "output_type": "execute_result"
    }
   ],
   "source": [
    "np.zeros((2,3))"
   ]
  },
  {
   "cell_type": "code",
   "execution_count": 84,
   "id": "4260768e-99b5-4adc-98d2-4ae3788308f2",
   "metadata": {},
   "outputs": [
    {
     "data": {
      "text/plain": [
       "array([[[1, 1, 1],\n",
       "        [1, 1, 1]],\n",
       "\n",
       "       [[1, 1, 1],\n",
       "        [1, 1, 1]]], dtype=int16)"
      ]
     },
     "execution_count": 84,
     "metadata": {},
     "output_type": "execute_result"
    }
   ],
   "source": [
    "np.ones((2,2,3), dtype='int16') # Can specify data type"
   ]
  },
  {
   "cell_type": "code",
   "execution_count": 85,
   "id": "2513e158-06c5-4b79-8761-fc29b45cea20",
   "metadata": {},
   "outputs": [
    {
     "data": {
      "text/plain": [
       "array([[99, 99, 99],\n",
       "       [99, 99, 99]])"
      ]
     },
     "execution_count": 85,
     "metadata": {},
     "output_type": "execute_result"
    }
   ],
   "source": [
    "np.full((2,3), 99)"
   ]
  },
  {
   "cell_type": "code",
   "execution_count": 86,
   "id": "4cb5fa03-951a-4c5d-a045-28ca80d5596a",
   "metadata": {},
   "outputs": [
    {
     "data": {
      "text/plain": [
       "array([[4, 4, 4, 4, 4, 4, 4],\n",
       "       [4, 4, 4, 4, 4, 4, 4]])"
      ]
     },
     "execution_count": 86,
     "metadata": {},
     "output_type": "execute_result"
    }
   ],
   "source": [
    "np.full_like(a, 4) # reuse existing array shape (same as np.full(a.shape, 4))"
   ]
  },
  {
   "cell_type": "code",
   "execution_count": 87,
   "id": "a2aab240-0f49-47c2-91f4-9a70ed393202",
   "metadata": {},
   "outputs": [
    {
     "data": {
      "text/plain": [
       "array([[[0.64349382, 0.82589095, 0.32413938],\n",
       "        [0.054168  , 0.72098964, 0.21621908]],\n",
       "\n",
       "       [[0.7251197 , 0.26086827, 0.73834044],\n",
       "        [0.13729957, 0.87848384, 0.81641674]]])"
      ]
     },
     "execution_count": 87,
     "metadata": {},
     "output_type": "execute_result"
    }
   ],
   "source": [
    "np.random.rand(2,2,3)"
   ]
  },
  {
   "cell_type": "code",
   "execution_count": 88,
   "id": "7953bc4f-0780-443d-81f3-24d15005e2a2",
   "metadata": {},
   "outputs": [
    {
     "data": {
      "text/plain": [
       "array([[0.08913158, 0.5405219 , 0.95980838, 0.33400565, 0.25517244,\n",
       "        0.83676205, 0.91684218],\n",
       "       [0.63577718, 0.76969313, 0.33470089, 0.26119458, 0.2323317 ,\n",
       "        0.87221566, 0.45397428]])"
      ]
     },
     "execution_count": 88,
     "metadata": {},
     "output_type": "execute_result"
    }
   ],
   "source": [
    "np.random.random_sample(a.shape)"
   ]
  },
  {
   "cell_type": "code",
   "execution_count": 97,
   "id": "2ffa4ddb-035a-43e4-a0ec-adb4fba7f908",
   "metadata": {},
   "outputs": [
    {
     "name": "stdout",
     "output_type": "stream",
     "text": [
      "[[ 0 17 28]\n",
      " [17 10 71]\n",
      " [60 31  6]]\n",
      "[[2 4 5]\n",
      " [6 4 1]\n",
      " [3 4 2]]\n"
     ]
    }
   ],
   "source": [
    "print(np.random.randint(77, size=(3,3))) # if only one argument it is \"high\"\n",
    "print(np.random.randint(1,7,size=(3,3))) # if not the first is \"low\""
   ]
  },
  {
   "cell_type": "code",
   "execution_count": 98,
   "id": "f3e81399-7f24-41d0-b294-4d7cb82bb4b7",
   "metadata": {},
   "outputs": [
    {
     "data": {
      "text/plain": [
       "array([[1., 0., 0.],\n",
       "       [0., 1., 0.],\n",
       "       [0., 0., 1.]])"
      ]
     },
     "execution_count": 98,
     "metadata": {},
     "output_type": "execute_result"
    }
   ],
   "source": [
    "np.identity(3)"
   ]
  },
  {
   "cell_type": "code",
   "execution_count": 101,
   "id": "0a6b961c-a85b-41e3-b6b6-dd6422385837",
   "metadata": {},
   "outputs": [
    {
     "name": "stdout",
     "output_type": "stream",
     "text": [
      "[1 1 1 2 2 2 3 3 3]\n",
      "[[1 2 3]\n",
      " [1 2 3]\n",
      " [1 2 3]]\n"
     ]
    }
   ],
   "source": [
    "arr = np.array([[1,2,3]])\n",
    "r1 = np.repeat(arr,3) # default axis=1\n",
    "r2 = np.repeat(arr,3,axis=0)\n",
    "print(r1)\n",
    "print(r2)"
   ]
  },
  {
   "cell_type": "code",
   "execution_count": 134,
   "id": "24a558b5-18b8-42b1-9b57-3991bfc8fbfc",
   "metadata": {},
   "outputs": [
    {
     "name": "stdout",
     "output_type": "stream",
     "text": [
      "[[1. 1. 1. 1. 1.]\n",
      " [1. 0. 0. 0. 1.]\n",
      " [1. 0. 9. 0. 1.]\n",
      " [1. 0. 0. 0. 1.]\n",
      " [1. 1. 1. 1. 1.]]\n"
     ]
    }
   ],
   "source": [
    "narr = np.ones((5,5))\n",
    "narr[1:4,1:4] = np.zeros((3,3))\n",
    "narr[2,2] = 9\n",
    "print(narr)"
   ]
  },
  {
   "cell_type": "markdown",
   "id": "74b73bcb-1f48-483d-9ef5-fd50d8cdb71e",
   "metadata": {},
   "source": [
    "***Caution: if creating a copy with a = b you actually create a reference***"
   ]
  },
  {
   "cell_type": "code",
   "execution_count": 138,
   "id": "f81f5d50-9cb0-4cb3-89bc-d34839dff8e8",
   "metadata": {},
   "outputs": [
    {
     "name": "stdout",
     "output_type": "stream",
     "text": [
      "[1 2 3] [1 2 3]\n",
      "[100   2   3] [100   2   3]\n"
     ]
    }
   ],
   "source": [
    "a = np.array([1,2,3])\n",
    "b = a\n",
    "print(a,b)\n",
    "b[0] = 100\n",
    "print(a,b)"
   ]
  },
  {
   "cell_type": "code",
   "execution_count": 139,
   "id": "7eeecc3e-9674-441f-a2c8-dc822e95b124",
   "metadata": {},
   "outputs": [
    {
     "name": "stdout",
     "output_type": "stream",
     "text": [
      "[1 2 3] [1 2 3]\n",
      "[1 2 3] [100   2   3]\n"
     ]
    }
   ],
   "source": [
    "a = np.array([1,2,3])\n",
    "b = a.copy()\n",
    "print(a,b)\n",
    "b[0] = 100\n",
    "print(a,b)"
   ]
  },
  {
   "cell_type": "markdown",
   "id": "873f29d3-4be4-4688-875a-5cfc74730415",
   "metadata": {},
   "source": [
    "## Mathematics"
   ]
  },
  {
   "cell_type": "markdown",
   "id": "c9f4fb6e-e1bd-45bb-84e9-aa0748709e47",
   "metadata": {},
   "source": [
    "### Algebraic functions\n",
    "\n",
    "https://numpy.org/doc/stable/reference/routines.math.html#sums-products-differences"
   ]
  },
  {
   "cell_type": "code",
   "execution_count": 177,
   "id": "42213ae6-3789-4171-80e9-4b1a959ca8a2",
   "metadata": {},
   "outputs": [],
   "source": [
    "a = np.array([1,2,3,4])"
   ]
  },
  {
   "cell_type": "code",
   "execution_count": 178,
   "id": "5045f2c2-7ec4-4ab5-a663-234623a59129",
   "metadata": {},
   "outputs": [
    {
     "data": {
      "text/plain": [
       "array([3, 4, 5, 6])"
      ]
     },
     "execution_count": 178,
     "metadata": {},
     "output_type": "execute_result"
    }
   ],
   "source": [
    "a+2"
   ]
  },
  {
   "cell_type": "code",
   "execution_count": 179,
   "id": "b1e86e8e-e624-462c-9389-f23657051a22",
   "metadata": {},
   "outputs": [
    {
     "data": {
      "text/plain": [
       "array([-1,  0,  1,  2])"
      ]
     },
     "execution_count": 179,
     "metadata": {},
     "output_type": "execute_result"
    }
   ],
   "source": [
    "a-2"
   ]
  },
  {
   "cell_type": "code",
   "execution_count": 180,
   "id": "a156b329-01b0-4ab3-b633-bb52c2060634",
   "metadata": {},
   "outputs": [
    {
     "data": {
      "text/plain": [
       "array([2, 4, 6, 8])"
      ]
     },
     "execution_count": 180,
     "metadata": {},
     "output_type": "execute_result"
    }
   ],
   "source": [
    "a*2"
   ]
  },
  {
   "cell_type": "code",
   "execution_count": 181,
   "id": "ad6c63b5-01fb-404c-a3dd-ad638bac226c",
   "metadata": {},
   "outputs": [
    {
     "data": {
      "text/plain": [
       "array([0.5, 1. , 1.5, 2. ])"
      ]
     },
     "execution_count": 181,
     "metadata": {},
     "output_type": "execute_result"
    }
   ],
   "source": [
    "a/2"
   ]
  },
  {
   "cell_type": "code",
   "execution_count": 182,
   "id": "14e84345-0afc-44d1-b72b-4cec6917853f",
   "metadata": {},
   "outputs": [
    {
     "data": {
      "text/plain": [
       "array([ 1,  4,  9, 16])"
      ]
     },
     "execution_count": 182,
     "metadata": {},
     "output_type": "execute_result"
    }
   ],
   "source": [
    "a ** 2"
   ]
  },
  {
   "cell_type": "code",
   "execution_count": 183,
   "id": "19eb1e8b-de30-4b7b-9645-e3600a78a41c",
   "metadata": {},
   "outputs": [
    {
     "data": {
      "text/plain": [
       "array([2, 2, 4, 4])"
      ]
     },
     "execution_count": 183,
     "metadata": {},
     "output_type": "execute_result"
    }
   ],
   "source": [
    "b = np.array([1,0,1,0])\n",
    "a+b"
   ]
  },
  {
   "cell_type": "markdown",
   "id": "92f63cc9-8b64-4855-afe9-37b7b3a97135",
   "metadata": {},
   "source": [
    "### Trig functions\n",
    "\n",
    "https://numpy.org/doc/stable/reference/routines.math.html#trigonometric-functions"
   ]
  },
  {
   "cell_type": "code",
   "execution_count": 184,
   "id": "fafde3fd-8acc-4c8f-a531-7d19a1e3598e",
   "metadata": {},
   "outputs": [
    {
     "data": {
      "text/plain": [
       "array([ 0.84147098,  0.90929743,  0.14112001, -0.7568025 ])"
      ]
     },
     "execution_count": 184,
     "metadata": {},
     "output_type": "execute_result"
    }
   ],
   "source": [
    "np.sin(a)"
   ]
  },
  {
   "cell_type": "code",
   "execution_count": 185,
   "id": "48ae7f60-8feb-474b-95b1-7527cbcaec5e",
   "metadata": {},
   "outputs": [
    {
     "data": {
      "text/plain": [
       "array([ 0.54030231, -0.41614684, -0.9899925 , -0.65364362])"
      ]
     },
     "execution_count": 185,
     "metadata": {},
     "output_type": "execute_result"
    }
   ],
   "source": [
    "np.cos(a)"
   ]
  },
  {
   "cell_type": "markdown",
   "id": "8684aa1b-4e4e-427e-b0c0-27ae7f2bdfd2",
   "metadata": {},
   "source": [
    "### Linear Algebra\n",
    "\n",
    "https://numpy.org/doc/stable/reference/routines.linalg.html"
   ]
  },
  {
   "cell_type": "code",
   "execution_count": 186,
   "id": "99f35bbc-e087-4fe3-b2b8-4c7f966f56bb",
   "metadata": {},
   "outputs": [
    {
     "name": "stdout",
     "output_type": "stream",
     "text": [
      "[[1. 1. 1.]\n",
      " [1. 1. 1.]] [[2 2]\n",
      " [2 2]\n",
      " [2 2]]\n"
     ]
    }
   ],
   "source": [
    "a = np.ones((2,3))\n",
    "b = np.full((3,2),2)\n",
    "print(a, b)"
   ]
  },
  {
   "cell_type": "markdown",
   "id": "f9a79219-3072-4419-8fcb-2fb5c5d291a1",
   "metadata": {},
   "source": [
    "#### Matrix multiplication"
   ]
  },
  {
   "cell_type": "code",
   "execution_count": 187,
   "id": "7397d618-c9c6-47a2-adf3-74a112e0f722",
   "metadata": {},
   "outputs": [
    {
     "data": {
      "text/plain": [
       "array([[6., 6.],\n",
       "       [6., 6.]])"
      ]
     },
     "execution_count": 187,
     "metadata": {},
     "output_type": "execute_result"
    }
   ],
   "source": [
    "np.matmul(a,b)"
   ]
  },
  {
   "cell_type": "markdown",
   "id": "b4c062d4-3644-46dc-8997-092f9f89674c",
   "metadata": {},
   "source": [
    "#### Deterimant"
   ]
  },
  {
   "cell_type": "code",
   "execution_count": 237,
   "id": "58e48407-e20d-465c-aece-ee6e62a47382",
   "metadata": {},
   "outputs": [
    {
     "data": {
      "text/plain": [
       "1.0"
      ]
     },
     "execution_count": 237,
     "metadata": {},
     "output_type": "execute_result"
    }
   ],
   "source": [
    "id = np.identity(3)\n",
    "np.linalg.det(id)"
   ]
  },
  {
   "cell_type": "markdown",
   "id": "ba9c473d-e4e1-496f-95a2-76395ee5d67e",
   "metadata": {},
   "source": [
    "#### Inverse\n",
    "https://numpy.org/doc/stable/reference/generated/numpy.matrix.I.html"
   ]
  },
  {
   "cell_type": "code",
   "execution_count": 198,
   "id": "3aec10b2-3343-43ab-b7a4-e226ab1a3fa2",
   "metadata": {},
   "outputs": [
    {
     "data": {
      "text/plain": [
       "matrix([[1.00000000e+00, 1.11022302e-16],\n",
       "        [0.00000000e+00, 1.00000000e+00]])"
      ]
     },
     "execution_count": 198,
     "metadata": {},
     "output_type": "execute_result"
    }
   ],
   "source": [
    "c = np.matrix('[1,2;3,4]')\n",
    "c.getI()\n",
    "c * c.getI()"
   ]
  },
  {
   "cell_type": "markdown",
   "id": "5ea0d748-ef9b-4ff4-a44d-657857d17d02",
   "metadata": {},
   "source": [
    "### Statistics"
   ]
  },
  {
   "cell_type": "code",
   "execution_count": 211,
   "id": "e7aa32fd-a28a-49f3-beee-b5a5fd33daba",
   "metadata": {},
   "outputs": [
    {
     "data": {
      "text/plain": [
       "array([[1, 2, 3],\n",
       "       [4, 5, 6]])"
      ]
     },
     "execution_count": 211,
     "metadata": {},
     "output_type": "execute_result"
    }
   ],
   "source": [
    "stats = np.array([[1,2,3],[4,5,6]])\n",
    "stats"
   ]
  },
  {
   "cell_type": "code",
   "execution_count": 212,
   "id": "fb3cfbdd-5f86-4f35-85dd-6a01a8f00341",
   "metadata": {},
   "outputs": [
    {
     "data": {
      "text/plain": [
       "1"
      ]
     },
     "execution_count": 212,
     "metadata": {},
     "output_type": "execute_result"
    }
   ],
   "source": [
    "np.min(stats)"
   ]
  },
  {
   "cell_type": "code",
   "execution_count": 215,
   "id": "1eb4066c-e91f-4706-b3eb-65a424742af7",
   "metadata": {},
   "outputs": [
    {
     "data": {
      "text/plain": [
       "array([3, 6])"
      ]
     },
     "execution_count": 215,
     "metadata": {},
     "output_type": "execute_result"
    }
   ],
   "source": [
    "np.max(stats, axis=1)"
   ]
  },
  {
   "cell_type": "code",
   "execution_count": 216,
   "id": "3d621bef-2c43-4716-b5f4-d3cfea6bcaa4",
   "metadata": {},
   "outputs": [
    {
     "data": {
      "text/plain": [
       "array([4, 5, 6])"
      ]
     },
     "execution_count": 216,
     "metadata": {},
     "output_type": "execute_result"
    }
   ],
   "source": [
    "np.max(stats, axis=0)"
   ]
  },
  {
   "cell_type": "code",
   "execution_count": 217,
   "id": "87688d44-cfc7-44e7-a9a6-fe521f50bd5c",
   "metadata": {},
   "outputs": [
    {
     "data": {
      "text/plain": [
       "21"
      ]
     },
     "execution_count": 217,
     "metadata": {},
     "output_type": "execute_result"
    }
   ],
   "source": [
    "np.sum(stats)"
   ]
  },
  {
   "cell_type": "code",
   "execution_count": 218,
   "id": "84a16aa8-5ebb-45df-8429-07cc8200419a",
   "metadata": {},
   "outputs": [
    {
     "data": {
      "text/plain": [
       "array([5, 7, 9])"
      ]
     },
     "execution_count": 218,
     "metadata": {},
     "output_type": "execute_result"
    }
   ],
   "source": [
    "np.sum(stats, axis=0)"
   ]
  },
  {
   "cell_type": "code",
   "execution_count": 219,
   "id": "f9810636-0992-42ec-8222-8017df5a6598",
   "metadata": {},
   "outputs": [
    {
     "data": {
      "text/plain": [
       "array([ 6, 15])"
      ]
     },
     "execution_count": 219,
     "metadata": {},
     "output_type": "execute_result"
    }
   ],
   "source": [
    "np.sum(stats, axis=1)"
   ]
  },
  {
   "cell_type": "markdown",
   "id": "21a2229a-8be6-4433-9b56-86b7b71615a8",
   "metadata": {},
   "source": [
    "## Reorganizing Arrays"
   ]
  },
  {
   "cell_type": "markdown",
   "id": "85422efc-f6b4-465d-9f3e-9550cc0eaff9",
   "metadata": {},
   "source": [
    "### Reshaping"
   ]
  },
  {
   "cell_type": "code",
   "execution_count": 225,
   "id": "de8f5bf1-30c7-48c0-a3c2-96b43d960610",
   "metadata": {},
   "outputs": [
    {
     "name": "stdout",
     "output_type": "stream",
     "text": [
      "[[1 2 3 4]\n",
      " [5 6 7 8]]\n",
      "(2, 4)\n"
     ]
    }
   ],
   "source": [
    "before = np.array([[1,2,3,4],[5,6,7,8]])\n",
    "print(before)\n",
    "print(before.shape)"
   ]
  },
  {
   "cell_type": "code",
   "execution_count": 230,
   "id": "199986ab-798b-457d-b9b1-3d2e0447250f",
   "metadata": {},
   "outputs": [
    {
     "data": {
      "text/plain": [
       "array([[1, 2],\n",
       "       [3, 4],\n",
       "       [5, 6],\n",
       "       [7, 8]])"
      ]
     },
     "execution_count": 230,
     "metadata": {},
     "output_type": "execute_result"
    }
   ],
   "source": [
    "after = before.reshape((4,2)); after"
   ]
  },
  {
   "cell_type": "code",
   "execution_count": 231,
   "id": "2bba204e-132f-44b7-86ed-eec9a37da78b",
   "metadata": {},
   "outputs": [
    {
     "data": {
      "text/plain": [
       "array([[[1, 2],\n",
       "        [3, 4]],\n",
       "\n",
       "       [[5, 6],\n",
       "        [7, 8]]])"
      ]
     },
     "execution_count": 231,
     "metadata": {},
     "output_type": "execute_result"
    }
   ],
   "source": [
    "after = before.reshape((2,2,2)); after"
   ]
  },
  {
   "cell_type": "markdown",
   "id": "d645dd4d-1259-492b-9d3d-022de72a5e02",
   "metadata": {},
   "source": [
    "### Stacking"
   ]
  },
  {
   "cell_type": "code",
   "execution_count": 233,
   "id": "169ec8a2-ae19-4164-ac73-f7c90b0d19b4",
   "metadata": {},
   "outputs": [
    {
     "data": {
      "text/plain": [
       "array([[1, 2, 3, 4],\n",
       "       [5, 6, 7, 8],\n",
       "       [5, 6, 7, 8],\n",
       "       [1, 2, 3, 4]])"
      ]
     },
     "execution_count": 233,
     "metadata": {},
     "output_type": "execute_result"
    }
   ],
   "source": [
    "v1 = np.array([1,2,3,4])\n",
    "v2 = np.array([5,6,7,8])\n",
    "np.vstack([v1, v2, v2, v1])"
   ]
  },
  {
   "cell_type": "code",
   "execution_count": 236,
   "id": "5833d6a8-cc0c-497f-8c5a-500835b8c79a",
   "metadata": {},
   "outputs": [
    {
     "name": "stdout",
     "output_type": "stream",
     "text": [
      "[[1. 1. 1. 1.]\n",
      " [1. 1. 1. 1.]] [[0. 0.]\n",
      " [0. 0.]]\n"
     ]
    },
    {
     "data": {
      "text/plain": [
       "array([[1., 1., 1., 1., 0., 0.],\n",
       "       [1., 1., 1., 1., 0., 0.]])"
      ]
     },
     "execution_count": 236,
     "metadata": {},
     "output_type": "execute_result"
    }
   ],
   "source": [
    "h1 = np.ones((2,4))\n",
    "h2 = np.zeros((2,2))\n",
    "print(h1, h2)\n",
    "np.hstack([h1, h2])"
   ]
  },
  {
   "cell_type": "markdown",
   "id": "7649120e-5c20-44c5-bfcc-01255a92bacb",
   "metadata": {},
   "source": [
    "## Miscellaneous"
   ]
  },
  {
   "cell_type": "markdown",
   "id": "202ef6cb-ba93-4e6c-bb9f-eef820bc7eff",
   "metadata": {},
   "source": [
    "### Load data from file"
   ]
  },
  {
   "cell_type": "markdown",
   "id": "b61c4de8-3d34-4325-92ee-0ca4b7095a54",
   "metadata": {},
   "source": [
    "### Boolean Masking and Advanced indexing"
   ]
  },
  {
   "cell_type": "code",
   "execution_count": 246,
   "id": "23d62bc9-c63a-40c1-b359-381c943e7d6f",
   "metadata": {},
   "outputs": [
    {
     "data": {
      "text/plain": [
       "array([[  1,  13,  21,  11, 196,  75,   4,   3,  34,   6,   7,   8,   0,\n",
       "          1,   2,   3,   4,   5],\n",
       "       [  3,  42,  12,  33, 766,  75,   4,  55,   6,   4,   3,   4,   5,\n",
       "          6,   7,   0,  11,  12],\n",
       "       [  1,  22,  33,  11, 999,  11,   2,   1,  78,   0,   1,   2,   9,\n",
       "          8,   7,   1,  76,  88]])"
      ]
     },
     "execution_count": 246,
     "metadata": {},
     "output_type": "execute_result"
    }
   ],
   "source": [
    "data = np.array([[1,13,21,11,196,75,4,3,34,6,7,8,0,1,2,3,4,5],\n",
    "                 [3,42,12,33,766,75,4,55,6,4,3,4,5,6,7,0,11,12],\n",
    "                 [1,22,33,11,999,11,2,1,78,0,1,2,9,8,7,1,76,88]]); data"
   ]
  },
  {
   "cell_type": "code",
   "execution_count": 247,
   "id": "7a757389-d5a1-4a26-88d7-4499a8d36da2",
   "metadata": {},
   "outputs": [
    {
     "data": {
      "text/plain": [
       "array([[False, False, False, False,  True,  True, False, False, False,\n",
       "        False, False, False, False, False, False, False, False, False],\n",
       "       [False, False, False, False,  True,  True, False,  True, False,\n",
       "        False, False, False, False, False, False, False, False, False],\n",
       "       [False, False, False, False,  True, False, False, False,  True,\n",
       "        False, False, False, False, False, False, False,  True,  True]])"
      ]
     },
     "execution_count": 247,
     "metadata": {},
     "output_type": "execute_result"
    }
   ],
   "source": [
    "data > 50"
   ]
  },
  {
   "cell_type": "code",
   "execution_count": 248,
   "id": "02121c31-845c-464b-a103-d2808876d9cb",
   "metadata": {},
   "outputs": [
    {
     "data": {
      "text/plain": [
       "array([196,  75, 766,  75,  55, 999,  78,  76,  88])"
      ]
     },
     "execution_count": 248,
     "metadata": {},
     "output_type": "execute_result"
    }
   ],
   "source": [
    "data[data>50]"
   ]
  },
  {
   "cell_type": "code",
   "execution_count": 249,
   "id": "e0c86253-5ea4-46d3-9d04-f1f4fcb2802d",
   "metadata": {},
   "outputs": [
    {
     "data": {
      "text/plain": [
       "array([2, 3, 9])"
      ]
     },
     "execution_count": 249,
     "metadata": {},
     "output_type": "execute_result"
    }
   ],
   "source": [
    "a = np.array([1,2,3,4,5,6,7,8,9])\n",
    "a[[1,2,8]]"
   ]
  },
  {
   "cell_type": "code",
   "execution_count": 250,
   "id": "0996d3ca-9eda-4114-a01d-47f32317f3c4",
   "metadata": {},
   "outputs": [
    {
     "data": {
      "text/plain": [
       "array([False, False, False, False,  True,  True, False,  True,  True,\n",
       "       False, False, False, False, False, False, False,  True,  True])"
      ]
     },
     "execution_count": 250,
     "metadata": {},
     "output_type": "execute_result"
    }
   ],
   "source": [
    "np.any(data>50, axis=0)"
   ]
  },
  {
   "cell_type": "code",
   "execution_count": 251,
   "id": "c6e23534-e9dd-49af-95a0-3fc58f566801",
   "metadata": {},
   "outputs": [
    {
     "data": {
      "text/plain": [
       "array([ True,  True,  True])"
      ]
     },
     "execution_count": 251,
     "metadata": {},
     "output_type": "execute_result"
    }
   ],
   "source": [
    "np.any(data>50, axis=1)"
   ]
  },
  {
   "cell_type": "code",
   "execution_count": 252,
   "id": "60c1a6cb-29cb-4174-9cfd-cca6c71650b6",
   "metadata": {},
   "outputs": [
    {
     "data": {
      "text/plain": [
       "array([[False, False, False, False, False,  True, False, False, False,\n",
       "        False, False, False, False, False, False, False, False, False],\n",
       "       [False, False, False, False, False,  True, False,  True, False,\n",
       "        False, False, False, False, False, False, False, False, False],\n",
       "       [False, False, False, False, False, False, False, False,  True,\n",
       "        False, False, False, False, False, False, False,  True,  True]])"
      ]
     },
     "execution_count": 252,
     "metadata": {},
     "output_type": "execute_result"
    }
   ],
   "source": [
    "((data > 50) & (data<100))"
   ]
  },
  {
   "cell_type": "code",
   "execution_count": 257,
   "id": "36a244e2-a95c-48a9-82ce-bff2f5d06798",
   "metadata": {},
   "outputs": [
    {
     "data": {
      "text/plain": [
       "array([[ True,  True,  True,  True,  True, False,  True,  True,  True,\n",
       "         True,  True,  True,  True,  True,  True,  True,  True,  True],\n",
       "       [ True,  True,  True,  True,  True, False,  True, False,  True,\n",
       "         True,  True,  True,  True,  True,  True,  True,  True,  True],\n",
       "       [ True,  True,  True,  True,  True,  True,  True,  True, False,\n",
       "         True,  True,  True,  True,  True,  True,  True, False, False]])"
      ]
     },
     "execution_count": 257,
     "metadata": {},
     "output_type": "execute_result"
    }
   ],
   "source": [
    "(~((data > 50) & (data<100)))"
   ]
  }
 ],
 "metadata": {
  "kernelspec": {
   "display_name": "Python 3 (ipykernel)",
   "language": "python",
   "name": "python3"
  },
  "language_info": {
   "codemirror_mode": {
    "name": "ipython",
    "version": 3
   },
   "file_extension": ".py",
   "mimetype": "text/x-python",
   "name": "python",
   "nbconvert_exporter": "python",
   "pygments_lexer": "ipython3",
   "version": "3.10.8"
  }
 },
 "nbformat": 4,
 "nbformat_minor": 5
}
